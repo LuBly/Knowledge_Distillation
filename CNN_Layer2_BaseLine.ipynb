{
  "nbformat": 4,
  "nbformat_minor": 0,
  "metadata": {
    "colab": {
      "name": "CNN_Layer2 BaseLine.ipynb",
      "provenance": [],
      "collapsed_sections": [],
      "authorship_tag": "ABX9TyOAKgMWYa0BDwTjnCC0+6zg",
      "include_colab_link": true
    },
    "kernelspec": {
      "name": "python3",
      "display_name": "Python 3"
    },
    "language_info": {
      "name": "python"
    },
    "accelerator": "GPU"
  },
  "cells": [
    {
      "cell_type": "markdown",
      "metadata": {
        "id": "view-in-github",
        "colab_type": "text"
      },
      "source": [
        "<a href=\"https://colab.research.google.com/github/LuBly/Knowledge_Distillation/blob/main/CNN_Layer2_BaseLine.ipynb\" target=\"_parent\"><img src=\"https://colab.research.google.com/assets/colab-badge.svg\" alt=\"Open In Colab\"/></a>"
      ]
    },
    {
      "cell_type": "markdown",
      "metadata": {
        "id": "jvW14IdP3Yms"
      },
      "source": [
        "import Library For Create CNN Layer model"
      ]
    },
    {
      "cell_type": "code",
      "metadata": {
        "id": "k7583e4K3Wc5"
      },
      "source": [
        "import torch\n",
        "import torch.nn as nn\n",
        "from torchsummary import summary\n",
        "import torchvision\n",
        "import torchvision.datasets as datasets\n",
        "import torchvision.transforms as transforms\n",
        "import torchvision.models as torch_models\n",
        "import torch.nn.functional as F\n",
        "import torch.optim as optim"
      ],
      "execution_count": 24,
      "outputs": []
    },
    {
      "cell_type": "markdown",
      "metadata": {
        "id": "ctapxPiD3icg"
      },
      "source": [
        "Import Library For Data Load"
      ]
    },
    {
      "cell_type": "code",
      "metadata": {
        "id": "zJUkLRPx3YW7"
      },
      "source": [
        "import torch\n",
        "import torchvision\n",
        "import torchvision.transforms as transforms"
      ],
      "execution_count": 25,
      "outputs": []
    },
    {
      "cell_type": "markdown",
      "metadata": {
        "id": "sD3cVsEb3nmo"
      },
      "source": [
        "Import Library For Training"
      ]
    },
    {
      "cell_type": "code",
      "metadata": {
        "id": "pOkeQ8zo33N6"
      },
      "source": [
        "import os\n",
        "import copy\n",
        "import time\n",
        "import torch\n",
        "import torch.nn as nn\n",
        "import torch.optim as optim\n",
        "import torch.nn.functional as F"
      ],
      "execution_count": 45,
      "outputs": []
    },
    {
      "cell_type": "markdown",
      "metadata": {
        "id": "AyOAnFYq8Mca"
      },
      "source": [
        "Import Library For display chart"
      ]
    },
    {
      "cell_type": "code",
      "metadata": {
        "id": "n0WKl-Hv8Muv"
      },
      "source": [
        "import matplotlib.pyplot as plt\n",
        "%matplotlib inline"
      ],
      "execution_count": 48,
      "outputs": []
    },
    {
      "cell_type": "markdown",
      "metadata": {
        "id": "QxPpVDUQ38hn"
      },
      "source": [
        "CNN Layer model 생성"
      ]
    },
    {
      "cell_type": "code",
      "metadata": {
        "id": "ZmWUH-trFZ6A"
      },
      "source": [
        "class ConvNetMaker(nn.Module):\n",
        "\t\"\"\"\n",
        "\tCreates a simple (plane) convolutional neural network\n",
        "\t\"\"\"\n",
        "\tdef __init__(self, layers):\n",
        "\t\t\"\"\"\n",
        "\t\tMakes a cnn using the provided list of layers specification\n",
        "\t\tThe details of this list is available in the paper\n",
        "\t\t:param layers: a list of strings, representing layers like [\"CB32\", \"CB32\", \"FC10\"]\n",
        "\t\t\"\"\"\n",
        "\t\tsuper(ConvNetMaker, self).__init__()\n",
        "\t\tself.conv_layers = []\n",
        "\t\tself.fc_layers = []\n",
        "\t\th, w, d = 32, 32, 3\n",
        "\t\tprevious_layer_filter_count = 3\n",
        "\t\tprevious_layer_size = h * w * d\n",
        "\t\tnum_fc_layers_remained = len([1 for l in layers if l.startswith('FC')])\n",
        "\t\tfor layer in layers:\n",
        "\t\t\tif layer.startswith('Conv'):\n",
        "\t\t\t\tfilter_count = int(layer[4:])\n",
        "\t\t\t\tself.conv_layers += [nn.Conv2d(previous_layer_filter_count, filter_count, kernel_size=3, padding=1),\n",
        "\t\t\t\t\t\t\t\t\t nn.BatchNorm2d(filter_count), nn.ReLU(inplace=True)]\n",
        "\t\t\t\tprevious_layer_filter_count = filter_count\n",
        "\t\t\t\td = filter_count\n",
        "\t\t\t\tprevious_layer_size = h * w * d\n",
        "\t\t\telif layer.startswith('MaxPool'):\n",
        "\t\t\t\tself.conv_layers += [nn.MaxPool2d(kernel_size=2, stride=2)]\n",
        "\t\t\t\th, w = int(h / 2.0), int(w / 2.0)\n",
        "\t\t\t\tprevious_layer_size = h * w * d\n",
        "\t\t\telif layer.startswith('FC'):\n",
        "\t\t\t\tnum_fc_layers_remained -= 1\n",
        "\t\t\t\tcurrent_layer_size = int(layer[2:])\n",
        "\t\t\t\tif num_fc_layers_remained == 0:\n",
        "\t\t\t\t\tself.fc_layers += [nn.Linear(previous_layer_size, current_layer_size)]\n",
        "\t\t\t\telse:\n",
        "\t\t\t\t\tself.fc_layers += [nn.Linear(previous_layer_size, current_layer_size), nn.ReLU(inplace=True)]\n",
        "\t\t\t\tprevious_layer_size = current_layer_size\n",
        "\t\t\n",
        "\t\tconv_layers = self.conv_layers\n",
        "\t\tfc_layers = self.fc_layers\n",
        "\t\tself.conv_layers = nn.Sequential(*conv_layers)\n",
        "\t\tself.fc_layers = nn.Sequential(*fc_layers)\n",
        "\t\n",
        "\tdef forward(self, x):\n",
        "\t\tx = self.conv_layers(x)\n",
        "\t\tx = x.view(x.size(0), -1)\n",
        "\t\tx = self.fc_layers(x)\n",
        "\t\treturn x\n",
        "\n",
        "\n",
        "\n",
        "def plane2():\n",
        "    return ConvNetMaker(['Conv16', 'MaxPool', 'Conv16', 'MaxPool', 'FC10'])\n",
        "\n",
        "def plane10():\n",
        "    return ConvNetMaker(['Conv32', 'Conv32', 'MaxPool', 'Conv64', 'Conv64', 'MaxPool', 'Conv128', 'Conv128', 'MaxPool',\n",
        "\t\t   'Conv256', 'Conv256', 'Conv256', 'Conv256' , 'MaxPool', 'FC128' ,'FC10'])"
      ],
      "execution_count": 50,
      "outputs": []
    },
    {
      "cell_type": "code",
      "metadata": {
        "colab": {
          "base_uri": "https://localhost:8080/"
        },
        "id": "2rfPRTJOzo2Y",
        "outputId": "534c70e1-31f4-43a5-ca96-bee026c99f40"
      },
      "source": [
        "device = torch.device('cuda' if torch.cuda.is_available() else 'cpu')\n",
        "model = plane2().to(device)\n",
        "x = torch.randn(3, 3, 32, 32).to(device)\n",
        "output = model(x)\n",
        "print(output.size())"
      ],
      "execution_count": 28,
      "outputs": [
        {
          "output_type": "stream",
          "name": "stdout",
          "text": [
            "torch.Size([3, 10])\n"
          ]
        }
      ]
    },
    {
      "cell_type": "code",
      "metadata": {
        "colab": {
          "base_uri": "https://localhost:8080/"
        },
        "id": "geabpcX-1R8f",
        "outputId": "4a2998cc-b5b3-482d-f732-ae73ffa51c2c"
      },
      "source": [
        "summary(model, (3, 32, 32), device=device.type)"
      ],
      "execution_count": 29,
      "outputs": [
        {
          "output_type": "stream",
          "name": "stdout",
          "text": [
            "----------------------------------------------------------------\n",
            "        Layer (type)               Output Shape         Param #\n",
            "================================================================\n",
            "            Conv2d-1           [-1, 16, 32, 32]             448\n",
            "       BatchNorm2d-2           [-1, 16, 32, 32]              32\n",
            "              ReLU-3           [-1, 16, 32, 32]               0\n",
            "         MaxPool2d-4           [-1, 16, 16, 16]               0\n",
            "            Conv2d-5           [-1, 16, 16, 16]           2,320\n",
            "       BatchNorm2d-6           [-1, 16, 16, 16]              32\n",
            "              ReLU-7           [-1, 16, 16, 16]               0\n",
            "         MaxPool2d-8             [-1, 16, 8, 8]               0\n",
            "            Linear-9                   [-1, 10]          10,250\n",
            "================================================================\n",
            "Total params: 13,082\n",
            "Trainable params: 13,082\n",
            "Non-trainable params: 0\n",
            "----------------------------------------------------------------\n",
            "Input size (MB): 0.01\n",
            "Forward/backward pass size (MB): 0.51\n",
            "Params size (MB): 0.05\n",
            "Estimated Total Size (MB): 0.57\n",
            "----------------------------------------------------------------\n"
          ]
        }
      ]
    },
    {
      "cell_type": "markdown",
      "metadata": {
        "id": "K_-E-Cqa4aln"
      },
      "source": [
        "Data Load"
      ]
    },
    {
      "cell_type": "code",
      "metadata": {
        "colab": {
          "base_uri": "https://localhost:8080/"
        },
        "id": "slc8mhIA4i-m",
        "outputId": "1fa0fe4d-d64b-4db4-eae6-198c243a1c3c"
      },
      "source": [
        "dataset_dir='./data'\n",
        "batch_size=128\n",
        "normalize = transforms.Normalize(mean=[0.507, 0.487, 0.441], std=[0.267, 0.256, 0.276])\n",
        "simple_transform = transforms.Compose([transforms.ToTensor(), normalize])\n",
        "\n",
        "train_transform = simple_transform\n",
        "\n",
        "trainset = torchvision.datasets.CIFAR10(root=dataset_dir, train=True,\n",
        "download=True, transform=train_transform)\n",
        "\n",
        "testset = torchvision.datasets.CIFAR10(root=dataset_dir, train=False,\n",
        "download=True, transform=simple_transform)\n",
        "\n",
        "trainloader = torch.utils.data.DataLoader(trainset, batch_size=batch_size,\n",
        "pin_memory=True, shuffle=True)\n",
        "testloader = torch.utils.data.DataLoader(testset, batch_size=batch_size,\n",
        "pin_memory=True, shuffle=False)\n",
        "\n",
        "  \n",
        "\n",
        "print(\"CIFAR10\")\n",
        "print(\"---\"*20)"
      ],
      "execution_count": 56,
      "outputs": [
        {
          "output_type": "stream",
          "name": "stdout",
          "text": [
            "Files already downloaded and verified\n",
            "Files already downloaded and verified\n",
            "CIFAR10\n",
            "------------------------------------------------------------\n"
          ]
        }
      ]
    },
    {
      "cell_type": "markdown",
      "metadata": {
        "id": "GNMmvPnY1vcI"
      },
      "source": [
        "모델 학습하기"
      ]
    },
    {
      "cell_type": "code",
      "metadata": {
        "id": "YcI7G3LJ2B5H"
      },
      "source": [
        "loss_func = nn.CrossEntropyLoss(reduction='sum')\n",
        "opt = optim.Adam(model.parameters(), lr=0.01)\n",
        "\n",
        "from torch.optim.lr_scheduler import ReduceLROnPlateau\n",
        "lr_scheduler = ReduceLROnPlateau(opt, mode='min', factor=0.1, patience=10)"
      ],
      "execution_count": 57,
      "outputs": []
    },
    {
      "cell_type": "code",
      "metadata": {
        "id": "7MysMGDG2GqI"
      },
      "source": [
        "def get_lr(opt):\n",
        "    for param_group in opt.param_groups:\n",
        "        return param_group['lr']"
      ],
      "execution_count": 59,
      "outputs": []
    },
    {
      "cell_type": "code",
      "metadata": {
        "id": "jfD74o0g2Kay"
      },
      "source": [
        "def metric_batch(output, target):\n",
        "    pred = output.argmax(1, keepdim=True)\n",
        "    corrects = pred.eq(target.view_as(pred)).sum().item()\n",
        "    return corrects\n",
        "\n",
        "\n",
        "# function to calculate loss per mini-batch\n",
        "def loss_batch(loss_func, output, target, opt=None):\n",
        "    loss = loss_func(output, target)\n",
        "    metric_b = metric_batch(output, target)\n",
        "\n",
        "    if opt is not None:\n",
        "        opt.zero_grad()\n",
        "        loss.backward()\n",
        "        opt.step()\n",
        "\n",
        "    return loss.item(), metric_b"
      ],
      "execution_count": 60,
      "outputs": []
    },
    {
      "cell_type": "code",
      "metadata": {
        "id": "FSw8-yNG2Mau"
      },
      "source": [
        "def loss_epoch(model, loss_func, dataset_dl, sanity_check=False, opt=None):\n",
        "    running_loss = 0.0\n",
        "    running_metric = 0.0\n",
        "    len_data = len(dataset_dl.dataset)\n",
        "\n",
        "    for xb, yb in dataset_dl:\n",
        "        xb = xb.to(device)\n",
        "        yb = yb.to(device)\n",
        "        output = model(xb)\n",
        "\n",
        "        loss_b, metric_b = loss_batch(loss_func, output, yb, opt)\n",
        "\n",
        "        running_loss += loss_b\n",
        "        \n",
        "        if metric_b is not None:\n",
        "            running_metric += metric_b\n",
        "        \n",
        "        if sanity_check is True:\n",
        "            break\n",
        "\n",
        "    loss = running_loss / len_data\n",
        "    metric = running_metric / len_data\n",
        "\n",
        "    return loss, metric"
      ],
      "execution_count": 61,
      "outputs": []
    },
    {
      "cell_type": "code",
      "metadata": {
        "id": "x1iiywnF2NjD"
      },
      "source": [
        "def train_val(model, params):\n",
        "    num_epochs=params['num_epochs']\n",
        "    loss_func=params[\"loss_func\"]\n",
        "    opt=params[\"optimizer\"]\n",
        "    train_dl=params[\"train_dl\"]\n",
        "    val_dl=params[\"val_dl\"]\n",
        "    sanity_check=params[\"sanity_check\"]\n",
        "    lr_scheduler=params[\"lr_scheduler\"]\n",
        "    path2weights=params[\"path2weights\"]\n",
        "\n",
        "    loss_history = {'train': [], 'val': []}\n",
        "    metric_history = {'train': [], 'val': []}\n",
        "\n",
        "    # # GPU out of memoty error\n",
        "    # best_model_wts = copy.deepcopy(model.state_dict())\n",
        "\n",
        "    best_loss = float('inf')\n",
        "\n",
        "    start_time = time.time()\n",
        "\n",
        "    for epoch in range(num_epochs):\n",
        "        current_lr = get_lr(opt)\n",
        "        print('Epoch {}/{}, current lr={}'.format(epoch, num_epochs-1, current_lr))\n",
        "\n",
        "        model.train()\n",
        "        train_loss, train_metric = loss_epoch(model, loss_func, train_dl, sanity_check, opt)\n",
        "        loss_history['train'].append(train_loss)\n",
        "        metric_history['train'].append(train_metric)\n",
        "\n",
        "        model.eval()\n",
        "        with torch.no_grad():\n",
        "            val_loss, val_metric = loss_epoch(model, loss_func, val_dl, sanity_check)\n",
        "        loss_history['val'].append(val_loss)\n",
        "        metric_history['val'].append(val_metric)\n",
        "\n",
        "        if val_loss < best_loss:\n",
        "            best_loss = val_loss\n",
        "            # best_model_wts = copy.deepcopy(model.state_dict())\n",
        "\n",
        "            # torch.save(model.state_dict(), path2weights)\n",
        "            # print('Copied best model weights!')\n",
        "            print('Get best val_loss')\n",
        "\n",
        "        lr_scheduler.step(val_loss)\n",
        "\n",
        "        print('train loss: %.6f, val loss: %.6f, accuracy: %.2f, time: %.4f min' %(train_loss, val_loss, 100*val_metric, (time.time()-start_time)/60))\n",
        "        print('-'*10)\n",
        "\n",
        "    # model.load_state_dict(best_model_wts)\n",
        "\n",
        "    return model, loss_history, metric_history"
      ],
      "execution_count": 62,
      "outputs": []
    },
    {
      "cell_type": "code",
      "metadata": {
        "id": "XmD9gOHf2RNf"
      },
      "source": [
        "params_train = {\n",
        "    'num_epochs':20,\n",
        "    'optimizer':opt,\n",
        "    'loss_func':loss_func,\n",
        "    'train_dl':trainloader,\n",
        "    'val_dl':testloader,\n",
        "    'sanity_check':False,\n",
        "    'lr_scheduler':lr_scheduler,\n",
        "    'path2weights':'./models/weights.pt',\n",
        "}\n",
        "\n",
        "# create the directory that stores weights.pt\n",
        "def createFolder(directory):\n",
        "    try:\n",
        "        if not os.path.exists(directory):\n",
        "            os.makedirs(directory)\n",
        "    except OSerror:\n",
        "        print('Error')\n",
        "createFolder('./models')"
      ],
      "execution_count": 63,
      "outputs": []
    },
    {
      "cell_type": "code",
      "metadata": {
        "colab": {
          "base_uri": "https://localhost:8080/"
        },
        "id": "wk2XiF8V4N8s",
        "outputId": "60de5df8-db6b-4868-bee2-919dbfa36c81"
      },
      "source": [
        "model, loss_hist, metric_hist = train_val(model, params_train)"
      ],
      "execution_count": 46,
      "outputs": [
        {
          "output_type": "stream",
          "name": "stdout",
          "text": [
            "Epoch 0/19, current lr=0.01\n",
            "Get best val_loss\n",
            "train loss: 1.498200, val loss: 1.185413, accuracy: 58.35, time: 0.3029 min\n",
            "----------\n",
            "Epoch 1/19, current lr=0.01\n",
            "Get best val_loss\n",
            "train loss: 1.095840, val loss: 1.107080, accuracy: 62.00, time: 0.6074 min\n",
            "----------\n",
            "Epoch 2/19, current lr=0.01\n",
            "Get best val_loss\n",
            "train loss: 0.991575, val loss: 1.038464, accuracy: 64.28, time: 0.9311 min\n",
            "----------\n",
            "Epoch 3/19, current lr=0.01\n",
            "Get best val_loss\n",
            "train loss: 0.935766, val loss: 0.955689, accuracy: 67.25, time: 1.2493 min\n",
            "----------\n",
            "Epoch 4/19, current lr=0.01\n",
            "train loss: 0.897222, val loss: 1.011021, accuracy: 65.44, time: 1.5556 min\n",
            "----------\n",
            "Epoch 5/19, current lr=0.01\n",
            "Get best val_loss\n",
            "train loss: 0.883942, val loss: 0.950106, accuracy: 67.43, time: 1.8720 min\n",
            "----------\n",
            "Epoch 6/19, current lr=0.01\n",
            "Get best val_loss\n",
            "train loss: 0.851674, val loss: 0.937271, accuracy: 67.59, time: 2.1895 min\n",
            "----------\n",
            "Epoch 7/19, current lr=0.01\n",
            "Get best val_loss\n",
            "train loss: 0.834403, val loss: 0.937151, accuracy: 67.88, time: 2.5016 min\n",
            "----------\n",
            "Epoch 8/19, current lr=0.01\n",
            "Get best val_loss\n",
            "train loss: 0.818452, val loss: 0.932883, accuracy: 68.27, time: 2.8116 min\n",
            "----------\n",
            "Epoch 9/19, current lr=0.01\n",
            "train loss: 0.808064, val loss: 0.932907, accuracy: 68.25, time: 3.1232 min\n",
            "----------\n",
            "Epoch 10/19, current lr=0.01\n",
            "train loss: 0.800207, val loss: 0.933160, accuracy: 68.65, time: 3.4363 min\n",
            "----------\n",
            "Epoch 11/19, current lr=0.01\n",
            "Get best val_loss\n",
            "train loss: 0.793645, val loss: 0.925528, accuracy: 68.69, time: 3.7415 min\n",
            "----------\n",
            "Epoch 12/19, current lr=0.01\n",
            "train loss: 0.785429, val loss: 0.942924, accuracy: 67.73, time: 4.0478 min\n",
            "----------\n",
            "Epoch 13/19, current lr=0.01\n",
            "Get best val_loss\n",
            "train loss: 0.778008, val loss: 0.920556, accuracy: 68.75, time: 4.3482 min\n",
            "----------\n",
            "Epoch 14/19, current lr=0.01\n",
            "Get best val_loss\n",
            "train loss: 0.777389, val loss: 0.911043, accuracy: 68.81, time: 4.6559 min\n",
            "----------\n",
            "Epoch 15/19, current lr=0.01\n",
            "train loss: 0.765814, val loss: 0.921755, accuracy: 69.12, time: 4.9601 min\n",
            "----------\n",
            "Epoch 16/19, current lr=0.01\n",
            "Get best val_loss\n",
            "train loss: 0.761120, val loss: 0.909553, accuracy: 69.22, time: 5.2702 min\n",
            "----------\n",
            "Epoch 17/19, current lr=0.01\n",
            "train loss: 0.758048, val loss: 0.976876, accuracy: 67.74, time: 5.5800 min\n",
            "----------\n",
            "Epoch 18/19, current lr=0.01\n",
            "train loss: 0.756116, val loss: 0.916801, accuracy: 68.89, time: 5.8834 min\n",
            "----------\n",
            "Epoch 19/19, current lr=0.01\n",
            "train loss: 0.743251, val loss: 0.953614, accuracy: 68.00, time: 6.1899 min\n",
            "----------\n"
          ]
        }
      ]
    },
    {
      "cell_type": "code",
      "metadata": {
        "colab": {
          "base_uri": "https://localhost:8080/",
          "height": 572
        },
        "id": "5lzvA_cU8GTa",
        "outputId": "f2570d32-c37e-4824-e384-7045e360c763"
      },
      "source": [
        "# Train-Validation Progress\n",
        "num_epochs=params_train[\"num_epochs\"]\n",
        "\n",
        "# plot loss progress\n",
        "plt.title(\"Train-Val Loss\")\n",
        "plt.plot(range(1,num_epochs+1),loss_hist[\"train\"],label=\"train\")\n",
        "plt.plot(range(1,num_epochs+1),loss_hist[\"val\"],label=\"val\")\n",
        "plt.ylabel(\"Loss\")\n",
        "plt.xlabel(\"Training Epochs\")\n",
        "plt.legend()\n",
        "plt.show()\n",
        "\n",
        "# plot accuracy progress\n",
        "plt.title(\"Train-Val Accuracy\")\n",
        "plt.plot(range(1,num_epochs+1),metric_hist[\"train\"],label=\"train\")\n",
        "plt.plot(range(1,num_epochs+1),metric_hist[\"val\"],label=\"val\")\n",
        "plt.ylabel(\"Accuracy\")\n",
        "plt.xlabel(\"Training Epochs\")\n",
        "plt.legend()\n",
        "plt.show()"
      ],
      "execution_count": 49,
      "outputs": [
        {
          "output_type": "display_data",
          "data": {
            "image/png": "[encoded data removed]",
            "text/plain": [
              "<Figure size 432x288 with 1 Axes>"
            ]
          },
          "metadata": {
            "needs_background": "light"
          }
        },
        {
          "output_type": "display_data",
          "data": {
            "image/png": "[encoded data removed]",
            "text/plain": [
              "<Figure size 432x288 with 1 Axes>"
            ]
          },
          "metadata": {
            "needs_background": "light"
          }
        }
      ]
    }
  ]
}