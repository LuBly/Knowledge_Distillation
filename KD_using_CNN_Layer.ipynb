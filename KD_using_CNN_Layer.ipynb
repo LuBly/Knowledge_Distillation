{
  "nbformat": 4,
  "nbformat_minor": 0,
  "metadata": {
    "colab": {
      "name": "KD_using_CNN_Layer.ipynb",
      "provenance": [],
      "authorship_tag": "ABX9TyPQ2Fm0PMLIOs6FXSe4cACX",
      "include_colab_link": true
    },
    "kernelspec": {
      "name": "python3",
      "display_name": "Python 3"
    },
    "language_info": {
      "name": "python"
    },
    "accelerator": "GPU"
  },
  "cells": [
    {
      "cell_type": "markdown",
      "metadata": {
        "id": "view-in-github",
        "colab_type": "text"
      },
      "source": [
        "<a href=\"https://colab.research.google.com/github/LuBly/Knowledge_Distillation/blob/main/KD_using_CNN_Layer.ipynb\" target=\"_parent\"><img src=\"https://colab.research.google.com/assets/colab-badge.svg\" alt=\"Open In Colab\"/></a>"
      ]
    },
    {
      "cell_type": "markdown",
      "metadata": {
        "id": "kOTxffaVyocz"
      },
      "source": [
        "이번 주차에는 위와 같은 과정을 적용시켜보고자 한다.\n",
        "\n",
        "1. BaseLine CNN 2 Layer \n",
        "2. Teacher model CNN 10 Layer\n",
        "3. DataSet:cifar10\n"
      ]
    },
    {
      "cell_type": "markdown",
      "metadata": {
        "id": "RjlJojxCWg2M"
      },
      "source": [
        "# **필요한 라이브러리를 import**"
      ]
    },
    {
      "cell_type": "markdown",
      "metadata": {
        "id": "jvW14IdP3Yms"
      },
      "source": [
        "import Library For Create CNN Layer model, Data Load"
      ]
    },
    {
      "cell_type": "code",
      "metadata": {
        "id": "_NwNpk5qFq_e"
      },
      "source": [
        "import torch\n",
        "import torch.nn as nn\n",
        "from torchsummary import summary\n",
        "import torchvision\n",
        "import torchvision.datasets as datasets\n",
        "import torchvision.transforms as transforms\n",
        "import torchvision.models as torch_models\n",
        "import torch.nn.functional as F\n",
        "import torch.optim as optim"
      ],
      "execution_count": 26,
      "outputs": []
    },
    {
      "cell_type": "markdown",
      "metadata": {
        "id": "tdChl3dEF_9p"
      },
      "source": [
        "Import Library For Training"
      ]
    },
    {
      "cell_type": "code",
      "metadata": {
        "id": "1rcO_G_xGDZ_"
      },
      "source": [
        "import os\n",
        "import copy\n",
        "import time"
      ],
      "execution_count": 27,
      "outputs": []
    },
    {
      "cell_type": "markdown",
      "metadata": {
        "id": "kURabIgfGEfh"
      },
      "source": [
        "Import Library For Display Chart"
      ]
    },
    {
      "cell_type": "code",
      "metadata": {
        "id": "8tGIBNDPGHQW"
      },
      "source": [
        "import matplotlib.pyplot as plt\n",
        "%matplotlib inline"
      ],
      "execution_count": 28,
      "outputs": []
    },
    {
      "cell_type": "markdown",
      "metadata": {
        "id": "pYuyOVfuGghp"
      },
      "source": [
        "Data Load"
      ]
    },
    {
      "cell_type": "code",
      "metadata": {
        "id": "YZwnl8yNGhmW",
        "colab": {
          "base_uri": "https://localhost:8080/"
        },
        "outputId": "94801be4-0fd5-4c5e-d6ac-1b5d25898b50"
      },
      "source": [
        "dataset_dir='./data'\n",
        "batch_size=128\n",
        "normalize = transforms.Normalize(mean=[0.507, 0.487, 0.441], std=[0.267, 0.256, 0.276])\n",
        "simple_transform = transforms.Compose([transforms.ToTensor(), normalize])\n",
        "\n",
        "train_transform = simple_transform\n",
        "\n",
        "trainset = torchvision.datasets.CIFAR10(root=dataset_dir, train=True,\n",
        "download=True, transform=train_transform)\n",
        "\n",
        "testset = torchvision.datasets.CIFAR10(root=dataset_dir, train=False,\n",
        "download=True, transform=simple_transform)\n",
        "\n",
        "trainloader = torch.utils.data.DataLoader(trainset, batch_size=batch_size,\n",
        "pin_memory=True, shuffle=True)\n",
        "testloader = torch.utils.data.DataLoader(testset, batch_size=batch_size,\n",
        "pin_memory=True, shuffle=False)"
      ],
      "execution_count": 29,
      "outputs": [
        {
          "output_type": "stream",
          "name": "stdout",
          "text": [
            "Files already downloaded and verified\n",
            "Files already downloaded and verified\n"
          ]
        }
      ]
    },
    {
      "cell_type": "markdown",
      "metadata": {
        "id": "l3AJFsCAIhjq"
      },
      "source": [
        "Teacher, Student Layer model 생성"
      ]
    },
    {
      "cell_type": "code",
      "metadata": {
        "id": "ZmWUH-trFZ6A"
      },
      "source": [
        "class ConvNetMaker(nn.Module):\n",
        "\t\"\"\"\n",
        "\tCreates a simple (plane) convolutional neural network\n",
        "\t\"\"\"\n",
        "\tdef __init__(self, layers):\n",
        "\t\t\"\"\"\n",
        "\t\tMakes a cnn using the provided list of layers specification\n",
        "\t\tThe details of this list is available in the paper\n",
        "\t\t:param layers: a list of strings, representing layers like [\"CB32\", \"CB32\", \"FC10\"]\n",
        "\t\t\"\"\"\n",
        "\t\tsuper(ConvNetMaker, self).__init__()\n",
        "\t\tself.conv_layers = []\n",
        "\t\tself.fc_layers = []\n",
        "\t\th, w, d = 32, 32, 3\n",
        "\t\tprevious_layer_filter_count = 3\n",
        "\t\tprevious_layer_size = h * w * d\n",
        "\t\tnum_fc_layers_remained = len([1 for l in layers if l.startswith('FC')])\n",
        "\t\tfor layer in layers:\n",
        "\t\t\tif layer.startswith('Conv'):\n",
        "\t\t\t\tfilter_count = int(layer[4:])\n",
        "\t\t\t\tself.conv_layers += [nn.Conv2d(previous_layer_filter_count, filter_count, kernel_size=3, padding=1),\n",
        "\t\t\t\t\t\t\t\t\t nn.BatchNorm2d(filter_count), nn.ReLU(inplace=True)]\n",
        "\t\t\t\tprevious_layer_filter_count = filter_count\n",
        "\t\t\t\td = filter_count\n",
        "\t\t\t\tprevious_layer_size = h * w * d\n",
        "\t\t\telif layer.startswith('MaxPool'):\n",
        "\t\t\t\tself.conv_layers += [nn.MaxPool2d(kernel_size=2, stride=2)]\n",
        "\t\t\t\th, w = int(h / 2.0), int(w / 2.0)\n",
        "\t\t\t\tprevious_layer_size = h * w * d\n",
        "\t\t\telif layer.startswith('FC'):\n",
        "\t\t\t\tnum_fc_layers_remained -= 1\n",
        "\t\t\t\tcurrent_layer_size = int(layer[2:])\n",
        "\t\t\t\tif num_fc_layers_remained == 0:\n",
        "\t\t\t\t\tself.fc_layers += [nn.Linear(previous_layer_size, current_layer_size)]\n",
        "\t\t\t\telse:\n",
        "\t\t\t\t\tself.fc_layers += [nn.Linear(previous_layer_size, current_layer_size), nn.ReLU(inplace=True)]\n",
        "\t\t\t\tprevious_layer_size = current_layer_size\n",
        "\t\t\n",
        "\t\tconv_layers = self.conv_layers\n",
        "\t\tfc_layers = self.fc_layers\n",
        "\t\tself.conv_layers = nn.Sequential(*conv_layers)\n",
        "\t\tself.fc_layers = nn.Sequential(*fc_layers)\n",
        "\t\n",
        "\tdef forward(self, x):\n",
        "\t\tx = self.conv_layers(x)\n",
        "\t\tx = x.view(x.size(0), -1)\n",
        "\t\tx = self.fc_layers(x)\n",
        "\t\treturn x\n",
        "\n",
        "\n",
        "\n",
        "def plane2():\n",
        "    return ConvNetMaker(['Conv16', 'MaxPool', 'Conv16', 'MaxPool', 'FC10'])\n",
        "\t\t\n",
        "def plane10():\n",
        "    return ConvNetMaker(['Conv32', 'Conv32', 'MaxPool', 'Conv64', 'Conv64', 'MaxPool', 'Conv128', 'Conv128', 'MaxPool',\n",
        "\t\t   'Conv256', 'Conv256', 'Conv256', 'Conv256' , 'MaxPool', 'FC128' ,'FC10'])\n"
      ],
      "execution_count": 30,
      "outputs": []
    },
    {
      "cell_type": "markdown",
      "metadata": {
        "id": "TAaAc3iIbFJk"
      },
      "source": [
        "KD를 미적용한 Student Model의 학습_BaseLine"
      ]
    },
    {
      "cell_type": "code",
      "metadata": {
        "colab": {
          "base_uri": "https://localhost:8080/"
        },
        "id": "-byK8k6yeZq5",
        "outputId": "5dfcd430-a07f-4d6b-ee7d-5ec444a0762b"
      },
      "source": [
        "# check\n",
        "device = torch.device('cuda' if torch.cuda.is_available() else 'cpu')\n",
        "model = plane2().to(device)\n",
        "x = torch.randn(3,3,32,32).to(device)\n",
        "output = model(x)\n",
        "print(output.shape)"
      ],
      "execution_count": 31,
      "outputs": [
        {
          "output_type": "stream",
          "name": "stdout",
          "text": [
            "torch.Size([3, 10])\n"
          ]
        }
      ]
    },
    {
      "cell_type": "markdown",
      "metadata": {
        "id": "P0DbpwlUcTxT"
      },
      "source": [
        "가중치 초기화"
      ]
    },
    {
      "cell_type": "code",
      "metadata": {
        "id": "6XvuceYacUGw"
      },
      "source": [
        "# weight initialization\n",
        "def initialize_weights(model):\n",
        "    classname = model.__class__.__name__\n",
        "    # fc layer\n",
        "    if classname.find('Linear') != -1:\n",
        "        nn.init.normal_(model.weight.data, 0.0, 0.02)\n",
        "        nn.init.constant_(model.bias.data, 0)\n",
        "    # batchnorm\n",
        "    elif classname.find('BatchNorm') != -1:\n",
        "        nn.init.normal_(model.weight.data, 1.0, 0.02)\n",
        "        nn.init.constant_(model.bias.data, 0)"
      ],
      "execution_count": 32,
      "outputs": []
    },
    {
      "cell_type": "code",
      "metadata": {
        "id": "tgkMu9-Weelp"
      },
      "source": [
        "initialize_weights(model)"
      ],
      "execution_count": 33,
      "outputs": []
    },
    {
      "cell_type": "code",
      "metadata": {
        "id": "Xk7qe8P2c0Xj"
      },
      "source": [
        "# loss function\n",
        "loss_func = nn.CrossEntropyLoss()\n",
        "\n",
        "# optimizer\n",
        "opt = optim.Adam(model.parameters())\n",
        "\n",
        "# lr scheduler\n",
        "from torch.optim.lr_scheduler import ReduceLROnPlateau\n",
        "lr_scheduler = ReduceLROnPlateau(opt, mode='min', factor=0.1, patience=10)"
      ],
      "execution_count": 34,
      "outputs": []
    },
    {
      "cell_type": "code",
      "metadata": {
        "id": "uCX4deU5c4c0"
      },
      "source": [
        "def get_lr(opt):\n",
        "    for param_group in opt.param_groups:\n",
        "        return param_group['lr']\n",
        "def metric_batch(output, target):\n",
        "    pred = output.argmax(1, keepdim=True)\n",
        "    corrects = pred.eq(target.view_as(pred)).sum().item()\n",
        "    return corrects\n",
        "def loss_batch(loss_func, output, target, opt=None):\n",
        "    loss_b = loss_func(output, target)\n",
        "    metric_b = metric_batch(output, target)\n",
        "\n",
        "    if opt is not None:\n",
        "        opt.zero_grad()\n",
        "        loss_b.backward()\n",
        "        opt.step()\n",
        "    \n",
        "    return loss_b.item(), metric_b\n",
        "def loss_epoch(model, loss_func, dataset_dl, sanity_check=False, opt=None):\n",
        "    running_loss = 0.0\n",
        "    running_metric = 0.0\n",
        "    len_data = len(dataset_dl.dataset)\n",
        "\n",
        "    for xb, yb in dataset_dl:\n",
        "        xb = xb.to(device)\n",
        "        yb = yb.to(device)\n",
        "        output = model(xb)\n",
        "\n",
        "        loss_b, metric_b = loss_batch(loss_func, output, yb, opt)\n",
        "\n",
        "        running_loss += loss_b\n",
        "        \n",
        "        if metric_b is not None:\n",
        "            running_metric += metric_b\n",
        "\n",
        "        if sanity_check is True:\n",
        "            break\n",
        "\n",
        "    loss = running_loss / len_data\n",
        "    metric = running_metric / len_data\n",
        "    return loss, metric    \n",
        "def train_val(model, params):\n",
        "    num_epochs=params['num_epochs']\n",
        "    loss_func=params['loss_func']\n",
        "    opt=params['optimizer']\n",
        "    train_dl=params['train_dl']\n",
        "    val_dl=params['val_dl']\n",
        "    sanity_check=params['sanity_check']\n",
        "    lr_scheduler=params['lr_scheduler']\n",
        "    path2weights=params['path2weights']\n",
        "\n",
        "    loss_history = {'train': [], 'val': []}\n",
        "    metric_history = {'train': [], 'val': []}\n",
        "\n",
        "    best_loss = float('inf')\n",
        "    best_model_wts = copy.deepcopy(model.state_dict())\n",
        "    start_time = time.time()\n",
        "\n",
        "    for epoch in range(num_epochs):\n",
        "        current_lr = get_lr(opt)\n",
        "        print('Epoch {}/{}, current lr= {}'.format(epoch, num_epochs-1, current_lr))\n",
        "\n",
        "        model.train()\n",
        "        train_loss, train_metric = loss_epoch(model, loss_func, train_dl, sanity_check, opt)\n",
        "        loss_history['train'].append(train_loss)\n",
        "        metric_history['train'].append(train_metric)\n",
        "\n",
        "        model.eval()\n",
        "        with torch.no_grad():\n",
        "            val_loss, val_metric = loss_epoch(model, loss_func, val_dl, sanity_check)\n",
        "        loss_history['val'].append(val_loss)\n",
        "        metric_history['val'].append(val_metric)\n",
        "\n",
        "        if val_loss < best_loss:\n",
        "            best_loss = val_loss\n",
        "            best_model_wts = copy.deepcopy(model.state_dict())\n",
        "            torch.save(model.state_dict(), path2weights)\n",
        "            print('Copied best model weights!')\n",
        "\n",
        "        lr_scheduler.step(val_loss)\n",
        "        if current_lr != get_lr(opt):\n",
        "            print('Loading best model weights!')\n",
        "            model.load_state_dict(best_model_wts)\n",
        "\n",
        "        print('train loss: %.6f, val loss: %.6f, accuracy: %.2f, time: %.4f min' %(train_loss, val_loss, 100*val_metric, (time.time()-start_time)/60))\n",
        "        print('-'*10)\n",
        "\n",
        "    model.load_state_dict(best_model_wts)\n",
        "    return model, loss_history, metric_history"
      ],
      "execution_count": 35,
      "outputs": []
    },
    {
      "cell_type": "code",
      "metadata": {
        "id": "5FxFvRdubtom"
      },
      "source": [
        "# set hyper parameters\n",
        "params_train = {\n",
        "    'num_epochs':20,\n",
        "    'optimizer':opt,\n",
        "    'loss_func':loss_func,\n",
        "    'train_dl':trainloader,\n",
        "    'val_dl':testloader,\n",
        "    'sanity_check':False,\n",
        "    'lr_scheduler':lr_scheduler,\n",
        "    'path2weights':'./models/weights.pt',\n",
        "}\n",
        "def createFolder(directory):\n",
        "    try:\n",
        "        if not os.path.exists(directory):\n",
        "            os.makedirs(directory)\n",
        "    except OSerror:\n",
        "        print('Error')\n",
        "createFolder('./models')"
      ],
      "execution_count": 36,
      "outputs": []
    },
    {
      "cell_type": "code",
      "metadata": {
        "colab": {
          "base_uri": "https://localhost:8080/"
        },
        "id": "eDyRYEbJbO5X",
        "outputId": "a524f224-944a-4d16-edc6-a87273ea259b"
      },
      "source": [
        "model, loss_hist, metric_hist = train_val(model, params_train)"
      ],
      "execution_count": 37,
      "outputs": [
        {
          "output_type": "stream",
          "name": "stdout",
          "text": [
            "Epoch 0/19, current lr= 0.001\n",
            "Copied best model weights!\n",
            "train loss: 0.010872, val loss: 0.009533, accuracy: 56.86, time: 0.3340 min\n",
            "----------\n",
            "Epoch 1/19, current lr= 0.001\n",
            "Copied best model weights!\n",
            "train loss: 0.008635, val loss: 0.008421, accuracy: 62.80, time: 0.6643 min\n",
            "----------\n",
            "Epoch 2/19, current lr= 0.001\n",
            "Copied best model weights!\n",
            "train loss: 0.007941, val loss: 0.007996, accuracy: 64.93, time: 0.9910 min\n",
            "----------\n",
            "Epoch 3/19, current lr= 0.001\n",
            "Copied best model weights!\n",
            "train loss: 0.007526, val loss: 0.007928, accuracy: 65.31, time: 1.3240 min\n",
            "----------\n",
            "Epoch 4/19, current lr= 0.001\n",
            "Copied best model weights!\n",
            "train loss: 0.007234, val loss: 0.007826, accuracy: 65.70, time: 1.6547 min\n",
            "----------\n",
            "Epoch 5/19, current lr= 0.001\n",
            "Copied best model weights!\n",
            "train loss: 0.007017, val loss: 0.007815, accuracy: 65.50, time: 1.9929 min\n",
            "----------\n",
            "Epoch 6/19, current lr= 0.001\n",
            "Copied best model weights!\n",
            "train loss: 0.006845, val loss: 0.007692, accuracy: 65.88, time: 2.3288 min\n",
            "----------\n",
            "Epoch 7/19, current lr= 0.001\n",
            "Copied best model weights!\n",
            "train loss: 0.006691, val loss: 0.007665, accuracy: 66.42, time: 2.6540 min\n",
            "----------\n",
            "Epoch 8/19, current lr= 0.001\n",
            "Copied best model weights!\n",
            "train loss: 0.006572, val loss: 0.007547, accuracy: 67.58, time: 2.9836 min\n",
            "----------\n",
            "Epoch 9/19, current lr= 0.001\n",
            "Copied best model weights!\n",
            "train loss: 0.006469, val loss: 0.007370, accuracy: 67.89, time: 3.3053 min\n",
            "----------\n",
            "Epoch 10/19, current lr= 0.001\n",
            "train loss: 0.006355, val loss: 0.007610, accuracy: 66.66, time: 3.6346 min\n",
            "----------\n",
            "Epoch 11/19, current lr= 0.001\n",
            "Copied best model weights!\n",
            "train loss: 0.006319, val loss: 0.007358, accuracy: 67.94, time: 3.9685 min\n",
            "----------\n",
            "Epoch 12/19, current lr= 0.001\n",
            "train loss: 0.006230, val loss: 0.007512, accuracy: 67.56, time: 4.3047 min\n",
            "----------\n",
            "Epoch 13/19, current lr= 0.001\n",
            "train loss: 0.006145, val loss: 0.007408, accuracy: 67.98, time: 4.6315 min\n",
            "----------\n",
            "Epoch 14/19, current lr= 0.001\n",
            "train loss: 0.006094, val loss: 0.007474, accuracy: 67.34, time: 4.9622 min\n",
            "----------\n",
            "Epoch 15/19, current lr= 0.001\n",
            "train loss: 0.006030, val loss: 0.007669, accuracy: 67.38, time: 5.2946 min\n",
            "----------\n",
            "Epoch 16/19, current lr= 0.001\n",
            "Copied best model weights!\n",
            "train loss: 0.006019, val loss: 0.007306, accuracy: 68.94, time: 5.6193 min\n",
            "----------\n",
            "Epoch 17/19, current lr= 0.001\n",
            "Copied best model weights!\n",
            "train loss: 0.005961, val loss: 0.007206, accuracy: 68.89, time: 5.9572 min\n",
            "----------\n",
            "Epoch 18/19, current lr= 0.001\n",
            "train loss: 0.005904, val loss: 0.007305, accuracy: 68.21, time: 6.2796 min\n",
            "----------\n",
            "Epoch 19/19, current lr= 0.001\n",
            "train loss: 0.005853, val loss: 0.007451, accuracy: 68.52, time: 6.6085 min\n",
            "----------\n"
          ]
        }
      ]
    },
    {
      "cell_type": "markdown",
      "metadata": {
        "id": "3Tw6FIE5gBkI"
      },
      "source": [
        "Loss 와 Accuracy의 시각화"
      ]
    },
    {
      "cell_type": "code",
      "metadata": {
        "colab": {
          "base_uri": "https://localhost:8080/",
          "height": 572
        },
        "id": "oewC0VgSgBkI",
        "outputId": "e362c0b8-961c-49a7-cb02-c254cccf3c7f"
      },
      "source": [
        "num_epochs = params_train['num_epochs']\n",
        "\n",
        "# Plot train-val loss\n",
        "plt.title('Train-Val Loss')\n",
        "plt.plot(range(1, num_epochs+1), loss_hist['train'], label='train')\n",
        "plt.plot(range(1, num_epochs+1), loss_hist['val'], label='val')\n",
        "plt.ylabel('Loss')\n",
        "plt.xlabel('Training Epochs')\n",
        "plt.legend()\n",
        "plt.show()\n",
        "\n",
        "# plot train-val accuracy\n",
        "plt.title('Train-Val Accuracy')\n",
        "plt.plot(range(1, num_epochs+1), metric_hist['train'], label='train')\n",
        "plt.plot(range(1, num_epochs+1), metric_hist['val'], label='val')\n",
        "plt.ylabel('Accuracy')\n",
        "plt.xlabel('Training Epochs')\n",
        "plt.legend()\n",
        "plt.show()"
      ],
      "execution_count": 38,
      "outputs": [
        {
          "output_type": "display_data",
          "data": {
            "image/png": "[encoded data removed]",
            "text/plain": [
              "<Figure size 432x288 with 1 Axes>"
            ]
          },
          "metadata": {
            "needs_background": "light"
          }
        },
        {
          "output_type": "display_data",
          "data": {
            "image/png": "[encoded data removed]",
            "text/plain": [
              "<Figure size 432x288 with 1 Axes>"
            ]
          },
          "metadata": {
            "needs_background": "light"
          }
        }
      ]
    },
    {
      "cell_type": "markdown",
      "metadata": {
        "id": "uy_vddrXRAhw"
      },
      "source": [
        "Teacher model 학습"
      ]
    },
    {
      "cell_type": "code",
      "metadata": {
        "colab": {
          "base_uri": "https://localhost:8080/"
        },
        "id": "Xo_7z9J6Izw2",
        "outputId": "fd210e12-6733-4f44-cf3b-264f53b09a95"
      },
      "source": [
        "# check\n",
        "device = torch.device('cuda' if torch.cuda.is_available() else 'cpu')\n",
        "teacher = plane10().to(device)\n",
        "x = torch.randn(3,3,32,32).to(device)\n",
        "output = teacher(x)\n",
        "print(output.shape)"
      ],
      "execution_count": 39,
      "outputs": [
        {
          "output_type": "stream",
          "name": "stdout",
          "text": [
            "torch.Size([3, 10])\n"
          ]
        }
      ]
    },
    {
      "cell_type": "markdown",
      "metadata": {
        "id": "958bd-yPIzVE"
      },
      "source": [
        "가중치 초기화"
      ]
    },
    {
      "cell_type": "code",
      "metadata": {
        "id": "uBPuKe87Q6u_"
      },
      "source": [
        "teacher.apply(initialize_weights);"
      ],
      "execution_count": 40,
      "outputs": []
    },
    {
      "cell_type": "code",
      "metadata": {
        "id": "NriBhxZYRjcX"
      },
      "source": [
        "# optimizer\n",
        "opt = optim.Adam(teacher.parameters())"
      ],
      "execution_count": 41,
      "outputs": []
    },
    {
      "cell_type": "markdown",
      "metadata": {
        "id": "BfNWhiOaRSNJ"
      },
      "source": [
        "하이퍼 파라미터 정의"
      ]
    },
    {
      "cell_type": "code",
      "metadata": {
        "id": "nfmr7EK9RP6T"
      },
      "source": [
        "params_train = {\n",
        "    'num_epochs':20,\n",
        "    'optimizer':opt,\n",
        "    'loss_func':loss_func,\n",
        "    'train_dl':trainloader,\n",
        "    'val_dl':testloader,\n",
        "    'sanity_check':False,\n",
        "    'lr_scheduler':lr_scheduler,\n",
        "    'path2weights':'./models/teacher_weights.pt',\n",
        "}\n",
        "def createFolder(directory):\n",
        "    try:\n",
        "        if not os.path.exists(directory):\n",
        "            os.makedirs(directory)\n",
        "    except OSerror:\n",
        "        print('Error')\n",
        "createFolder('./models')"
      ],
      "execution_count": 42,
      "outputs": []
    },
    {
      "cell_type": "code",
      "metadata": {
        "colab": {
          "base_uri": "https://localhost:8080/"
        },
        "id": "TES3UekoRw3m",
        "outputId": "19833bac-c6b5-4104-adb7-9e647f5d2fe8"
      },
      "source": [
        "teacher, loss_hist, metric_hist = train_val(teacher, params_train)"
      ],
      "execution_count": 43,
      "outputs": [
        {
          "output_type": "stream",
          "name": "stdout",
          "text": [
            "Epoch 0/19, current lr= 0.001\n",
            "Copied best model weights!\n",
            "train loss: 0.009946, val loss: 0.011840, accuracy: 51.04, time: 0.7860 min\n",
            "----------\n",
            "Epoch 1/19, current lr= 0.001\n",
            "Copied best model weights!\n",
            "train loss: 0.006291, val loss: 0.008258, accuracy: 65.50, time: 1.5693 min\n",
            "----------\n",
            "Epoch 2/19, current lr= 0.001\n",
            "Copied best model weights!\n",
            "train loss: 0.004832, val loss: 0.005182, accuracy: 77.80, time: 2.3553 min\n",
            "----------\n",
            "Epoch 3/19, current lr= 0.001\n",
            "Copied best model weights!\n",
            "train loss: 0.003976, val loss: 0.005048, accuracy: 78.55, time: 3.1416 min\n",
            "----------\n",
            "Epoch 4/19, current lr= 0.001\n",
            "train loss: 0.003339, val loss: 0.005129, accuracy: 78.22, time: 3.9293 min\n",
            "----------\n",
            "Epoch 5/19, current lr= 0.001\n",
            "train loss: 0.002824, val loss: 0.005472, accuracy: 78.14, time: 4.7266 min\n",
            "----------\n",
            "Epoch 6/19, current lr= 0.001\n",
            "Copied best model weights!\n",
            "train loss: 0.002309, val loss: 0.004803, accuracy: 80.85, time: 5.5111 min\n",
            "----------\n",
            "Epoch 7/19, current lr= 0.001\n",
            "Copied best model weights!\n",
            "train loss: 0.001937, val loss: 0.004236, accuracy: 83.58, time: 6.2998 min\n",
            "----------\n",
            "Epoch 8/19, current lr= 0.001\n",
            "train loss: 0.001598, val loss: 0.005339, accuracy: 81.13, time: 7.0853 min\n",
            "----------\n",
            "Epoch 9/19, current lr= 0.001\n",
            "train loss: 0.001340, val loss: 0.004737, accuracy: 82.84, time: 7.8721 min\n",
            "----------\n",
            "Epoch 10/19, current lr= 0.001\n",
            "train loss: 0.001139, val loss: 0.005283, accuracy: 82.68, time: 8.6587 min\n",
            "----------\n",
            "Epoch 11/19, current lr= 0.001\n",
            "train loss: 0.000956, val loss: 0.005093, accuracy: 83.02, time: 9.4401 min\n",
            "----------\n",
            "Epoch 12/19, current lr= 0.001\n",
            "train loss: 0.000813, val loss: 0.005661, accuracy: 82.57, time: 10.2304 min\n",
            "----------\n",
            "Epoch 13/19, current lr= 0.001\n",
            "train loss: 0.000681, val loss: 0.006035, accuracy: 82.64, time: 11.0256 min\n",
            "----------\n",
            "Epoch 14/19, current lr= 0.001\n",
            "train loss: 0.000660, val loss: 0.005684, accuracy: 82.78, time: 11.8113 min\n",
            "----------\n",
            "Epoch 15/19, current lr= 0.001\n",
            "train loss: 0.000597, val loss: 0.006032, accuracy: 82.46, time: 12.5955 min\n",
            "----------\n",
            "Epoch 16/19, current lr= 0.001\n",
            "train loss: 0.000514, val loss: 0.006862, accuracy: 81.36, time: 13.3778 min\n",
            "----------\n",
            "Epoch 17/19, current lr= 0.001\n",
            "train loss: 0.000489, val loss: 0.006278, accuracy: 83.40, time: 14.1629 min\n",
            "----------\n",
            "Epoch 18/19, current lr= 0.001\n",
            "train loss: 0.000464, val loss: 0.006308, accuracy: 82.60, time: 14.9470 min\n",
            "----------\n",
            "Epoch 19/19, current lr= 0.001\n",
            "train loss: 0.000414, val loss: 0.006407, accuracy: 83.40, time: 15.7332 min\n",
            "----------\n"
          ]
        }
      ]
    },
    {
      "cell_type": "markdown",
      "metadata": {
        "id": "ZHN9UauoWLeC"
      },
      "source": [
        "Loss 와 Accuracy의 시각화"
      ]
    },
    {
      "cell_type": "code",
      "metadata": {
        "colab": {
          "base_uri": "https://localhost:8080/",
          "height": 572
        },
        "id": "UXpI0xIUWP3M",
        "outputId": "f7964333-775e-41b6-84f2-3907e4a02117"
      },
      "source": [
        "num_epochs = params_train['num_epochs']\n",
        "\n",
        "# Plot train-val loss\n",
        "plt.title('Train-Val Loss')\n",
        "plt.plot(range(1, num_epochs+1), loss_hist['train'], label='train')\n",
        "plt.plot(range(1, num_epochs+1), loss_hist['val'], label='val')\n",
        "plt.ylabel('Loss')\n",
        "plt.xlabel('Training Epochs')\n",
        "plt.legend()\n",
        "plt.show()\n",
        "\n",
        "# plot train-val accuracy\n",
        "plt.title('Train-Val Accuracy')\n",
        "plt.plot(range(1, num_epochs+1), metric_hist['train'], label='train')\n",
        "plt.plot(range(1, num_epochs+1), metric_hist['val'], label='val')\n",
        "plt.ylabel('Accuracy')\n",
        "plt.xlabel('Training Epochs')\n",
        "plt.legend()\n",
        "plt.show()"
      ],
      "execution_count": 44,
      "outputs": [
        {
          "output_type": "display_data",
          "data": {
            "image/png": "[encoded data removed]",
            "text/plain": [
              "<Figure size 432x288 with 1 Axes>"
            ]
          },
          "metadata": {
            "needs_background": "light"
          }
        },
        {
          "output_type": "display_data",
          "data": {
            "image/png": "[encoded data removed]",
            "text/plain": [
              "<Figure size 432x288 with 1 Axes>"
            ]
          },
          "metadata": {
            "needs_background": "light"
          }
        }
      ]
    },
    {
      "cell_type": "markdown",
      "metadata": {
        "id": "YTF4W3eKWYtl"
      },
      "source": [
        "Student Model 학습."
      ]
    },
    {
      "cell_type": "code",
      "metadata": {
        "colab": {
          "base_uri": "https://localhost:8080/"
        },
        "id": "Sm1UJJk0Wf2t",
        "outputId": "7e057dee-5981-4928-9201-3dd990616b83"
      },
      "source": [
        "# check\n",
        "device = torch.device('cuda' if torch.cuda.is_available() else 'cpu')\n",
        "student = plane2().to(device)\n",
        "x = torch.randn(3,3,32,32).to(device)\n",
        "output = teacher(x)\n",
        "print(output.shape)"
      ],
      "execution_count": 45,
      "outputs": [
        {
          "output_type": "stream",
          "name": "stdout",
          "text": [
            "torch.Size([3, 10])\n"
          ]
        }
      ]
    },
    {
      "cell_type": "markdown",
      "metadata": {
        "id": "tir-buHDWif7"
      },
      "source": [
        "가중치 초기화"
      ]
    },
    {
      "cell_type": "code",
      "metadata": {
        "id": "ahtYcPYPWjwh"
      },
      "source": [
        "student.apply(initialize_weights);"
      ],
      "execution_count": 46,
      "outputs": []
    },
    {
      "cell_type": "markdown",
      "metadata": {
        "id": "ThlpAycBWzEg"
      },
      "source": [
        "Teacher 학습을 통해 얻은 Weight값들을 load"
      ]
    },
    {
      "cell_type": "code",
      "metadata": {
        "id": "kFMIqNBiW3OL"
      },
      "source": [
        "teacher = plane10().to(device)\n",
        "# load weight\n",
        "teacher.load_state_dict(torch.load('/content/models/teacher_weights.pt'))\n",
        "student = plane2().to(device)\n",
        "\n",
        "# optimizer\n",
        "opt = optim.Adam(student.parameters())"
      ],
      "execution_count": 47,
      "outputs": []
    },
    {
      "cell_type": "markdown",
      "metadata": {
        "id": "CO292MoJXEAE"
      },
      "source": [
        "KD함수 선언 및 적용"
      ]
    },
    {
      "cell_type": "code",
      "metadata": {
        "id": "WX2CKf1UXGOT"
      },
      "source": [
        "# knowledge distillation loss\n",
        "def distillation(y, labels, teacher_scores, T, alpha):\n",
        "    # distillation loss + classification loss\n",
        "    # y: student\n",
        "    # labels: hard label\n",
        "    # teacher_scores: soft label\n",
        "    return nn.KLDivLoss()(F.log_softmax(y/T), F.softmax(teacher_scores/T)) * (T*T * 2.0 + alpha) + F.cross_entropy(y,labels) * (1.-alpha)\n",
        "\n",
        "# val loss\n",
        "loss_func = nn.CrossEntropyLoss()"
      ],
      "execution_count": 48,
      "outputs": []
    },
    {
      "cell_type": "code",
      "metadata": {
        "id": "Bvi2ncDaXJgB"
      },
      "source": [
        "def distill_loss_batch(output, target, teacher_output, loss_fn=distillation, opt=opt):\n",
        "    loss_b = loss_fn(output, target, teacher_output, T=20.0, alpha=0.7)\n",
        "    metric_b = metric_batch(output, target)\n",
        "\n",
        "    if opt is not None:\n",
        "        opt.zero_grad()\n",
        "        loss_b.backward()\n",
        "        opt.step()\n",
        "\n",
        "    return loss_b.item(), metric_b"
      ],
      "execution_count": 49,
      "outputs": []
    },
    {
      "cell_type": "markdown",
      "metadata": {
        "id": "AvDNaacaXQBZ"
      },
      "source": [
        "20epoch로 학습결과 비교"
      ]
    },
    {
      "cell_type": "code",
      "metadata": {
        "colab": {
          "base_uri": "https://localhost:8080/"
        },
        "id": "apehYMMGXT54",
        "outputId": "a2ef2d0e-dbe1-43cf-f99a-75657cab2b7b"
      },
      "source": [
        "num_epochs= 20\n",
        "\n",
        "loss_history = {'train': [], 'val': []}\n",
        "metric_history = {'train': [], 'val': []}\n",
        "\n",
        "best_loss = float('inf')\n",
        "start_time = time.time()\n",
        "\n",
        "for epoch in range(num_epochs):\n",
        "    current_lr = get_lr(opt)\n",
        "    print('Epoch {}/{}, current lr= {}'.format(epoch, num_epochs-1, current_lr))\n",
        "\n",
        "    # train\n",
        "    student.train()\n",
        "\n",
        "    running_loss = 0.0\n",
        "    running_metric = 0.0\n",
        "    len_data = len(trainloader.dataset)\n",
        "\n",
        "    for xb, yb in trainloader:\n",
        "        xb = xb.to(device)\n",
        "        yb = yb.to(device)\n",
        "\n",
        "        output = student(xb)\n",
        "        teacher_output = teacher(xb).detach()\n",
        "        loss_b, metric_b = distill_loss_batch(output, yb, teacher_output, loss_fn=distillation, opt=opt)\n",
        "        running_loss += loss_b\n",
        "        running_metric_b = metric_b\n",
        "    train_loss = running_loss / len_data\n",
        "    train_metric = running_metric / len_data\n",
        "\n",
        "    loss_history['train'].append(train_loss)\n",
        "    metric_history['train'].append(train_metric)\n",
        "\n",
        "    # validation\n",
        "    student.eval()\n",
        "    with torch.no_grad():\n",
        "        val_loss, val_metric = loss_epoch(student, loss_func, testloader)\n",
        "    loss_history['val'].append(val_loss)\n",
        "    metric_history['val'].append(val_metric)\n",
        "\n",
        "\n",
        "    lr_scheduler.step(val_loss)\n",
        "\n",
        "    print('train loss: %.6f, val loss: %.6f, accuracy: %.2f, time: %.4f min' %(train_loss, val_loss, 100*val_metric, (time.time()-start_time)/60))\n",
        "    print('-'*10)"
      ],
      "execution_count": 50,
      "outputs": [
        {
          "output_type": "stream",
          "name": "stdout",
          "text": [
            "Epoch 0/19, current lr= 0.001\n"
          ]
        },
        {
          "output_type": "stream",
          "name": "stderr",
          "text": [
            "/usr/local/lib/python3.7/dist-packages/ipykernel_launcher.py:7: UserWarning: Implicit dimension choice for log_softmax has been deprecated. Change the call to include dim=X as an argument.\n",
            "  import sys\n",
            "/usr/local/lib/python3.7/dist-packages/ipykernel_launcher.py:7: UserWarning: Implicit dimension choice for softmax has been deprecated. Change the call to include dim=X as an argument.\n",
            "  import sys\n",
            "/usr/local/lib/python3.7/dist-packages/torch/nn/functional.py:2748: UserWarning: reduction: 'mean' divides the total loss by both the batch size and the support size.'batchmean' divides only by the batch size, and aligns with the KL div math definition.'mean' will be changed to behave the same as 'batchmean' in the next major release.\n",
            "  \"reduction: 'mean' divides the total loss by both the batch size and the support size.\"\n"
          ]
        },
        {
          "output_type": "stream",
          "name": "stdout",
          "text": [
            "train loss: 0.013140, val loss: 0.009795, accuracy: 57.88, time: 0.5331 min\n",
            "----------\n",
            "Epoch 1/19, current lr= 0.001\n",
            "train loss: 0.010084, val loss: 0.008807, accuracy: 62.37, time: 1.0560 min\n",
            "----------\n",
            "Epoch 2/19, current lr= 0.001\n",
            "train loss: 0.009241, val loss: 0.008492, accuracy: 63.68, time: 1.5829 min\n",
            "----------\n",
            "Epoch 3/19, current lr= 0.001\n",
            "train loss: 0.008770, val loss: 0.008147, accuracy: 64.69, time: 2.1083 min\n",
            "----------\n",
            "Epoch 4/19, current lr= 0.001\n",
            "train loss: 0.008487, val loss: 0.008098, accuracy: 65.48, time: 2.6427 min\n",
            "----------\n",
            "Epoch 5/19, current lr= 0.001\n",
            "train loss: 0.008259, val loss: 0.008158, accuracy: 65.75, time: 3.1777 min\n",
            "----------\n",
            "Epoch 6/19, current lr= 0.001\n",
            "train loss: 0.008095, val loss: 0.007888, accuracy: 66.11, time: 3.7166 min\n",
            "----------\n",
            "Epoch 7/19, current lr= 0.001\n",
            "train loss: 0.007943, val loss: 0.008193, accuracy: 65.46, time: 4.2496 min\n",
            "----------\n",
            "Epoch 8/19, current lr= 0.001\n",
            "train loss: 0.007827, val loss: 0.007826, accuracy: 66.82, time: 4.7893 min\n",
            "----------\n",
            "Epoch 9/19, current lr= 0.001\n",
            "train loss: 0.007727, val loss: 0.008476, accuracy: 64.98, time: 5.3290 min\n",
            "----------\n",
            "Epoch 10/19, current lr= 0.001\n",
            "train loss: 0.007624, val loss: 0.007870, accuracy: 67.47, time: 5.8706 min\n",
            "----------\n",
            "Epoch 11/19, current lr= 0.001\n",
            "train loss: 0.007570, val loss: 0.007677, accuracy: 67.80, time: 6.4039 min\n",
            "----------\n",
            "Epoch 12/19, current lr= 0.001\n",
            "train loss: 0.007482, val loss: 0.007771, accuracy: 67.32, time: 6.9426 min\n",
            "----------\n",
            "Epoch 13/19, current lr= 0.001\n",
            "train loss: 0.007424, val loss: 0.007627, accuracy: 67.68, time: 7.4838 min\n",
            "----------\n",
            "Epoch 14/19, current lr= 0.001\n",
            "train loss: 0.007364, val loss: 0.007783, accuracy: 67.48, time: 8.0239 min\n",
            "----------\n",
            "Epoch 15/19, current lr= 0.001\n",
            "train loss: 0.007305, val loss: 0.008079, accuracy: 66.76, time: 8.5646 min\n",
            "----------\n",
            "Epoch 16/19, current lr= 0.001\n",
            "train loss: 0.007267, val loss: 0.007928, accuracy: 67.66, time: 9.1016 min\n",
            "----------\n",
            "Epoch 17/19, current lr= 0.001\n",
            "train loss: 0.007201, val loss: 0.007815, accuracy: 67.47, time: 9.6331 min\n",
            "----------\n",
            "Epoch 18/19, current lr= 0.001\n",
            "train loss: 0.007174, val loss: 0.007751, accuracy: 67.85, time: 10.1692 min\n",
            "----------\n",
            "Epoch 19/19, current lr= 0.001\n",
            "train loss: 0.007112, val loss: 0.007549, accuracy: 68.30, time: 10.7022 min\n",
            "----------\n"
          ]
        }
      ]
    },
    {
      "cell_type": "code",
      "metadata": {
        "colab": {
          "base_uri": "https://localhost:8080/",
          "height": 572
        },
        "id": "72O3wezoay2y",
        "outputId": "28fbef6c-76fd-42ed-f0a3-ed528959e744"
      },
      "source": [
        "num_epochs = params_train['num_epochs']\n",
        "# Plot train-val loss\n",
        "plt.title('Train-Val Loss')\n",
        "plt.plot(range(1, num_epochs+1), loss_hist['train'], label='train')\n",
        "plt.plot(range(1, num_epochs+1), loss_hist['val'], label='val')\n",
        "plt.ylabel('Loss')\n",
        "plt.xlabel('Training Epochs')\n",
        "plt.legend()\n",
        "plt.show()\n",
        "\n",
        "# plot train-val accuracy\n",
        "plt.title('Train-Val Accuracy')\n",
        "plt.plot(range(1, num_epochs+1), metric_hist['train'], label='train')\n",
        "plt.plot(range(1, num_epochs+1), metric_hist['val'], label='val')\n",
        "plt.ylabel('Accuracy')\n",
        "plt.xlabel('Training Epochs')\n",
        "plt.legend()\n",
        "plt.show()"
      ],
      "execution_count": 51,
      "outputs": [
        {
          "output_type": "display_data",
          "data": {
            "image/png": "[encoded data removed]",
            "text/plain": [
              "<Figure size 432x288 with 1 Axes>"
            ]
          },
          "metadata": {
            "needs_background": "light"
          }
        },
        {
          "output_type": "display_data",
          "data": {
            "image/png": "[encoded data removed]",
            "text/plain": [
              "<Figure size 432x288 with 1 Axes>"
            ]
          },
          "metadata": {
            "needs_background": "light"
          }
        }
      ]
    }
  ]
}