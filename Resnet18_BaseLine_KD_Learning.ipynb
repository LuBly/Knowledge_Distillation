{
  "nbformat": 4,
  "nbformat_minor": 0,
  "metadata": {
    "colab": {
      "name": "Resnet18_BaseLine_KD_Learning.ipynb",
      "provenance": [],
      "authorship_tag": "ABX9TyMtnrzSCo12ZCHUYUA9Dd+k",
      "include_colab_link": true
    },
    "kernelspec": {
      "name": "python3",
      "display_name": "Python 3"
    },
    "language_info": {
      "name": "python"
    },
    "accelerator": "GPU",
    "widgets": {
      "application/vnd.jupyter.widget-state+json": {
        "bd3093f57e284e568e177ec5064915f5": {
          "model_module": "@jupyter-widgets/controls",
          "model_name": "HBoxModel",
          "model_module_version": "1.5.0",
          "state": {
            "_view_name": "HBoxView",
            "_dom_classes": [],
            "_model_name": "HBoxModel",
            "_view_module": "@jupyter-widgets/controls",
            "_model_module_version": "1.5.0",
            "_view_count": null,
            "_view_module_version": "1.5.0",
            "box_style": "",
            "layout": "IPY_MODEL_f01d1e5ae6dd466a9d87ff77bdc3357f",
            "_model_module": "@jupyter-widgets/controls",
            "children": [
              "IPY_MODEL_baa17eb501cd45ffa6f6f4c15443284c",
              "IPY_MODEL_5f15b644d215409bbecb64b2368be2bd",
              "IPY_MODEL_4c6765f1f007434e9cba08372eae9d1a"
            ]
          }
        },
        "f01d1e5ae6dd466a9d87ff77bdc3357f": {
          "model_module": "@jupyter-widgets/base",
          "model_name": "LayoutModel",
          "model_module_version": "1.2.0",
          "state": {
            "_view_name": "LayoutView",
            "grid_template_rows": null,
            "right": null,
            "justify_content": null,
            "_view_module": "@jupyter-widgets/base",
            "overflow": null,
            "_model_module_version": "1.2.0",
            "_view_count": null,
            "flex_flow": null,
            "width": null,
            "min_width": null,
            "border": null,
            "align_items": null,
            "bottom": null,
            "_model_module": "@jupyter-widgets/base",
            "top": null,
            "grid_column": null,
            "overflow_y": null,
            "overflow_x": null,
            "grid_auto_flow": null,
            "grid_area": null,
            "grid_template_columns": null,
            "flex": null,
            "_model_name": "LayoutModel",
            "justify_items": null,
            "grid_row": null,
            "max_height": null,
            "align_content": null,
            "visibility": null,
            "align_self": null,
            "height": null,
            "min_height": null,
            "padding": null,
            "grid_auto_rows": null,
            "grid_gap": null,
            "max_width": null,
            "order": null,
            "_view_module_version": "1.2.0",
            "grid_template_areas": null,
            "object_position": null,
            "object_fit": null,
            "grid_auto_columns": null,
            "margin": null,
            "display": null,
            "left": null
          }
        },
        "baa17eb501cd45ffa6f6f4c15443284c": {
          "model_module": "@jupyter-widgets/controls",
          "model_name": "HTMLModel",
          "model_module_version": "1.5.0",
          "state": {
            "_view_name": "HTMLView",
            "style": "IPY_MODEL_b920e5129e154355bf45a3bc576e1f82",
            "_dom_classes": [],
            "description": "",
            "_model_name": "HTMLModel",
            "placeholder": "​",
            "_view_module": "@jupyter-widgets/controls",
            "_model_module_version": "1.5.0",
            "value": "",
            "_view_count": null,
            "_view_module_version": "1.5.0",
            "description_tooltip": null,
            "_model_module": "@jupyter-widgets/controls",
            "layout": "IPY_MODEL_9d6e4236df0e4911939c52016751608d"
          }
        },
        "5f15b644d215409bbecb64b2368be2bd": {
          "model_module": "@jupyter-widgets/controls",
          "model_name": "FloatProgressModel",
          "model_module_version": "1.5.0",
          "state": {
            "_view_name": "ProgressView",
            "style": "IPY_MODEL_7c95eb8350c84147a4ef9da709c1548e",
            "_dom_classes": [],
            "description": "",
            "_model_name": "FloatProgressModel",
            "bar_style": "success",
            "max": 170498071,
            "_view_module": "@jupyter-widgets/controls",
            "_model_module_version": "1.5.0",
            "value": 170498071,
            "_view_count": null,
            "_view_module_version": "1.5.0",
            "orientation": "horizontal",
            "min": 0,
            "description_tooltip": null,
            "_model_module": "@jupyter-widgets/controls",
            "layout": "IPY_MODEL_9ff74fd4369444b4bf6cd10bb8945bdb"
          }
        },
        "4c6765f1f007434e9cba08372eae9d1a": {
          "model_module": "@jupyter-widgets/controls",
          "model_name": "HTMLModel",
          "model_module_version": "1.5.0",
          "state": {
            "_view_name": "HTMLView",
            "style": "IPY_MODEL_b285b47c1e094a96a047159e3f551941",
            "_dom_classes": [],
            "description": "",
            "_model_name": "HTMLModel",
            "placeholder": "​",
            "_view_module": "@jupyter-widgets/controls",
            "_model_module_version": "1.5.0",
            "value": " 170499072/? [00:03&lt;00:00, 51621203.42it/s]",
            "_view_count": null,
            "_view_module_version": "1.5.0",
            "description_tooltip": null,
            "_model_module": "@jupyter-widgets/controls",
            "layout": "IPY_MODEL_146ce627f4f64672a714c059d7d8432b"
          }
        },
        "b920e5129e154355bf45a3bc576e1f82": {
          "model_module": "@jupyter-widgets/controls",
          "model_name": "DescriptionStyleModel",
          "model_module_version": "1.5.0",
          "state": {
            "_view_name": "StyleView",
            "_model_name": "DescriptionStyleModel",
            "description_width": "",
            "_view_module": "@jupyter-widgets/base",
            "_model_module_version": "1.5.0",
            "_view_count": null,
            "_view_module_version": "1.2.0",
            "_model_module": "@jupyter-widgets/controls"
          }
        },
        "9d6e4236df0e4911939c52016751608d": {
          "model_module": "@jupyter-widgets/base",
          "model_name": "LayoutModel",
          "model_module_version": "1.2.0",
          "state": {
            "_view_name": "LayoutView",
            "grid_template_rows": null,
            "right": null,
            "justify_content": null,
            "_view_module": "@jupyter-widgets/base",
            "overflow": null,
            "_model_module_version": "1.2.0",
            "_view_count": null,
            "flex_flow": null,
            "width": null,
            "min_width": null,
            "border": null,
            "align_items": null,
            "bottom": null,
            "_model_module": "@jupyter-widgets/base",
            "top": null,
            "grid_column": null,
            "overflow_y": null,
            "overflow_x": null,
            "grid_auto_flow": null,
            "grid_area": null,
            "grid_template_columns": null,
            "flex": null,
            "_model_name": "LayoutModel",
            "justify_items": null,
            "grid_row": null,
            "max_height": null,
            "align_content": null,
            "visibility": null,
            "align_self": null,
            "height": null,
            "min_height": null,
            "padding": null,
            "grid_auto_rows": null,
            "grid_gap": null,
            "max_width": null,
            "order": null,
            "_view_module_version": "1.2.0",
            "grid_template_areas": null,
            "object_position": null,
            "object_fit": null,
            "grid_auto_columns": null,
            "margin": null,
            "display": null,
            "left": null
          }
        },
        "7c95eb8350c84147a4ef9da709c1548e": {
          "model_module": "@jupyter-widgets/controls",
          "model_name": "ProgressStyleModel",
          "model_module_version": "1.5.0",
          "state": {
            "_view_name": "StyleView",
            "_model_name": "ProgressStyleModel",
            "description_width": "",
            "_view_module": "@jupyter-widgets/base",
            "_model_module_version": "1.5.0",
            "_view_count": null,
            "_view_module_version": "1.2.0",
            "bar_color": null,
            "_model_module": "@jupyter-widgets/controls"
          }
        },
        "9ff74fd4369444b4bf6cd10bb8945bdb": {
          "model_module": "@jupyter-widgets/base",
          "model_name": "LayoutModel",
          "model_module_version": "1.2.0",
          "state": {
            "_view_name": "LayoutView",
            "grid_template_rows": null,
            "right": null,
            "justify_content": null,
            "_view_module": "@jupyter-widgets/base",
            "overflow": null,
            "_model_module_version": "1.2.0",
            "_view_count": null,
            "flex_flow": null,
            "width": null,
            "min_width": null,
            "border": null,
            "align_items": null,
            "bottom": null,
            "_model_module": "@jupyter-widgets/base",
            "top": null,
            "grid_column": null,
            "overflow_y": null,
            "overflow_x": null,
            "grid_auto_flow": null,
            "grid_area": null,
            "grid_template_columns": null,
            "flex": null,
            "_model_name": "LayoutModel",
            "justify_items": null,
            "grid_row": null,
            "max_height": null,
            "align_content": null,
            "visibility": null,
            "align_self": null,
            "height": null,
            "min_height": null,
            "padding": null,
            "grid_auto_rows": null,
            "grid_gap": null,
            "max_width": null,
            "order": null,
            "_view_module_version": "1.2.0",
            "grid_template_areas": null,
            "object_position": null,
            "object_fit": null,
            "grid_auto_columns": null,
            "margin": null,
            "display": null,
            "left": null
          }
        },
        "b285b47c1e094a96a047159e3f551941": {
          "model_module": "@jupyter-widgets/controls",
          "model_name": "DescriptionStyleModel",
          "model_module_version": "1.5.0",
          "state": {
            "_view_name": "StyleView",
            "_model_name": "DescriptionStyleModel",
            "description_width": "",
            "_view_module": "@jupyter-widgets/base",
            "_model_module_version": "1.5.0",
            "_view_count": null,
            "_view_module_version": "1.2.0",
            "_model_module": "@jupyter-widgets/controls"
          }
        },
        "146ce627f4f64672a714c059d7d8432b": {
          "model_module": "@jupyter-widgets/base",
          "model_name": "LayoutModel",
          "model_module_version": "1.2.0",
          "state": {
            "_view_name": "LayoutView",
            "grid_template_rows": null,
            "right": null,
            "justify_content": null,
            "_view_module": "@jupyter-widgets/base",
            "overflow": null,
            "_model_module_version": "1.2.0",
            "_view_count": null,
            "flex_flow": null,
            "width": null,
            "min_width": null,
            "border": null,
            "align_items": null,
            "bottom": null,
            "_model_module": "@jupyter-widgets/base",
            "top": null,
            "grid_column": null,
            "overflow_y": null,
            "overflow_x": null,
            "grid_auto_flow": null,
            "grid_area": null,
            "grid_template_columns": null,
            "flex": null,
            "_model_name": "LayoutModel",
            "justify_items": null,
            "grid_row": null,
            "max_height": null,
            "align_content": null,
            "visibility": null,
            "align_self": null,
            "height": null,
            "min_height": null,
            "padding": null,
            "grid_auto_rows": null,
            "grid_gap": null,
            "max_width": null,
            "order": null,
            "_view_module_version": "1.2.0",
            "grid_template_areas": null,
            "object_position": null,
            "object_fit": null,
            "grid_auto_columns": null,
            "margin": null,
            "display": null,
            "left": null
          }
        }
      }
    }
  },
  "cells": [
    {
      "cell_type": "markdown",
      "metadata": {
        "id": "view-in-github",
        "colab_type": "text"
      },
      "source": [
        "<a href=\"https://colab.research.google.com/github/LuBly/Knowledge_Distillation/blob/main/Resnet18_BaseLine_KD_Learning.ipynb\" target=\"_parent\"><img src=\"https://colab.research.google.com/assets/colab-badge.svg\" alt=\"Open In Colab\"/></a>"
      ]
    },
    {
      "cell_type": "markdown",
      "metadata": {
        "id": "QvRWbLYKZr2X"
      },
      "source": [
        "import Library For Create Resnet Layer model& Data Load\n",
        "\n"
      ]
    },
    {
      "cell_type": "code",
      "metadata": {
        "id": "-kLM_zFF-3kT"
      },
      "source": [
        "import torch\n",
        "import torch.nn as nn\n",
        "from torchsummary import summary\n",
        "import torchvision\n",
        "import torchvision.datasets as datasets\n",
        "import torchvision.transforms as transforms\n",
        "import torchvision.models as torch_models\n",
        "import torch.nn.functional as F\n",
        "import torch.optim as optim"
      ],
      "execution_count": 7,
      "outputs": []
    },
    {
      "cell_type": "markdown",
      "metadata": {
        "id": "5kQ9VttGZ3yc"
      },
      "source": [
        "Import Library For Training and Display Chart"
      ]
    },
    {
      "cell_type": "code",
      "metadata": {
        "id": "oADLncwWZzN-"
      },
      "source": [
        "import os\n",
        "import copy\n",
        "import time\n",
        "import matplotlib.pyplot as plt\n",
        "%matplotlib inline"
      ],
      "execution_count": 8,
      "outputs": []
    },
    {
      "cell_type": "markdown",
      "metadata": {
        "id": "HvvZBbbkaBuu"
      },
      "source": [
        "Resnet Model 생성\n",
        "1. Residual block 정의"
      ]
    },
    {
      "cell_type": "code",
      "metadata": {
        "id": "LlsvjJckaDt_"
      },
      "source": [
        "class BasicBlock(nn.Module):\n",
        "    expansion = 1\n",
        "    def __init__(self, in_channels, out_channels, stride=1):\n",
        "        super().__init__()\n",
        "\n",
        "        # BatchNorm에 bias가 포함되어 있으므로, conv2d는 bias=False로 설정합니다.\n",
        "        self.residual_function = nn.Sequential(\n",
        "            nn.Conv2d(in_channels, out_channels, kernel_size=3, stride=stride, padding=1, bias=False),\n",
        "            nn.BatchNorm2d(out_channels),\n",
        "            nn.ReLU(),\n",
        "            nn.Conv2d(out_channels, out_channels * BasicBlock.expansion, kernel_size=3, stride=1, padding=1, bias=False),\n",
        "            nn.BatchNorm2d(out_channels * BasicBlock.expansion),\n",
        "        )\n",
        "\n",
        "        # identity mapping, input과 output의 feature map size, filter 수가 동일한 경우 사용.\n",
        "        self.shortcut = nn.Sequential()\n",
        "\n",
        "        self.relu = nn.ReLU()\n",
        "\n",
        "        # projection mapping using 1x1conv\n",
        "        if stride != 1 or in_channels != BasicBlock.expansion * out_channels:\n",
        "            self.shortcut = nn.Sequential(\n",
        "                nn.Conv2d(in_channels, out_channels * BasicBlock.expansion, kernel_size=1, stride=stride, bias=False),\n",
        "                nn.BatchNorm2d(out_channels * BasicBlock.expansion)\n",
        "            )\n",
        "\n",
        "    def forward(self, x):\n",
        "        x = self.residual_function(x) + self.shortcut(x)\n",
        "        x = self.relu(x)\n",
        "        return x\n",
        "\n",
        "\n",
        "class BottleNeck(nn.Module):\n",
        "    expansion = 4\n",
        "    def __init__(self, in_channels, out_channels, stride=1):\n",
        "        super().__init__()\n",
        "\n",
        "        self.residual_function = nn.Sequential(\n",
        "            nn.Conv2d(in_channels, out_channels, kernel_size=1, stride=1, bias=False),\n",
        "            nn.BatchNorm2d(out_channels),\n",
        "            nn.ReLU(),\n",
        "            nn.Conv2d(out_channels, out_channels, kernel_size=3, stride=stride, padding=1, bias=False),\n",
        "            nn.BatchNorm2d(out_channels),\n",
        "            nn.ReLU(),\n",
        "            nn.Conv2d(out_channels, out_channels * BottleNeck.expansion, kernel_size=1, stride=1, bias=False),\n",
        "            nn.BatchNorm2d(out_channels * BottleNeck.expansion),\n",
        "        )\n",
        "\n",
        "        self.shortcut = nn.Sequential()\n",
        "\n",
        "        self.relu = nn.ReLU()\n",
        "\n",
        "        if stride != 1 or in_channels != out_channels * BottleNeck.expansion:\n",
        "            self.shortcut = nn.Sequential(\n",
        "                nn.Conv2d(in_channels, out_channels*BottleNeck.expansion, kernel_size=1, stride=stride, bias=False),\n",
        "                nn.BatchNorm2d(out_channels*BottleNeck.expansion)\n",
        "            )\n",
        "            \n",
        "    def forward(self, x):\n",
        "        x = self.residual_function(x) + self.shortcut(x)\n",
        "        x = self.relu(x)\n",
        "        return x"
      ],
      "execution_count": 9,
      "outputs": []
    },
    {
      "cell_type": "markdown",
      "metadata": {
        "id": "iYiyuWPI4zpJ"
      },
      "source": [
        "2. Resnet Model 구현"
      ]
    },
    {
      "cell_type": "code",
      "metadata": {
        "id": "rbqZIbKT44k0"
      },
      "source": [
        "class ResNet(nn.Module):\n",
        "    def __init__(self, block, num_block, num_classes=10, init_weights=True):\n",
        "        super().__init__()\n",
        "\n",
        "        self.in_channels=64\n",
        "\n",
        "        self.conv1 = nn.Sequential(\n",
        "            nn.Conv2d(3, 64, kernel_size=7, stride=2, padding=3, bias=False),\n",
        "            nn.BatchNorm2d(64),\n",
        "            nn.ReLU(),\n",
        "            nn.MaxPool2d(kernel_size=3, stride=2, padding=1)\n",
        "        )\n",
        "\n",
        "        self.conv2_x = self._make_layer(block, 64, num_block[0], 1)\n",
        "        self.conv3_x = self._make_layer(block, 128, num_block[1], 2)\n",
        "        self.conv4_x = self._make_layer(block, 256, num_block[2], 2)\n",
        "        self.conv5_x = self._make_layer(block, 512, num_block[3], 2)\n",
        "\n",
        "        self.avg_pool = nn.AdaptiveAvgPool2d((1,1))\n",
        "        self.fc = nn.Linear(512 * block.expansion, num_classes)\n",
        "\n",
        "        # weights inittialization\n",
        "        if init_weights:\n",
        "            self._initialize_weights()\n",
        "\n",
        "    def _make_layer(self, block, out_channels, num_blocks, stride):\n",
        "        strides = [stride] + [1] * (num_blocks - 1)\n",
        "        layers = []\n",
        "        for stride in strides:\n",
        "            layers.append(block(self.in_channels, out_channels, stride))\n",
        "            self.in_channels = out_channels * block.expansion\n",
        "\n",
        "        return nn.Sequential(*layers)\n",
        "\n",
        "    def forward(self,x):\n",
        "        output = self.conv1(x)\n",
        "        output = self.conv2_x(output)\n",
        "        x = self.conv3_x(output)\n",
        "        x = self.conv4_x(x)\n",
        "        x = self.conv5_x(x)\n",
        "        x = self.avg_pool(x)\n",
        "        x = x.view(x.size(0), -1)\n",
        "        x = self.fc(x)\n",
        "        return x\n",
        "\n",
        "    # define weight initialization function\n",
        "    def _initialize_weights(self):\n",
        "        for m in self.modules():\n",
        "            if isinstance(m, nn.Conv2d):\n",
        "                nn.init.kaiming_normal_(m.weight, mode='fan_out', nonlinearity='relu')\n",
        "                if m.bias is not None:\n",
        "                    nn.init.constant_(m.bias, 0)\n",
        "            elif isinstance(m, nn.BatchNorm2d):\n",
        "                nn.init.constant_(m.weight, 1)\n",
        "                nn.init.constant_(m.bias, 0)\n",
        "            elif isinstance(m, nn.Linear):\n",
        "                nn.init.normal_(m.weight, 0, 0.01)\n",
        "                nn.init.constant_(m.bias, 0)\n",
        "\n",
        "def resnet18():\n",
        "    return ResNet(BasicBlock, [2,2,2,2])\n",
        "\n",
        "def resnet50():\n",
        "    return ResNet(BottleNeck, [3,4,6,3])"
      ],
      "execution_count": 10,
      "outputs": []
    },
    {
      "cell_type": "markdown",
      "metadata": {
        "id": "uzKbMy075HT-"
      },
      "source": [
        "Model check_BaseLine"
      ]
    },
    {
      "cell_type": "code",
      "metadata": {
        "colab": {
          "base_uri": "https://localhost:8080/"
        },
        "id": "wOncralk5JNc",
        "outputId": "1aca8b0a-fe87-4568-cac9-94273144f9c0"
      },
      "source": [
        "device = torch.device('cuda' if torch.cuda.is_available() else 'cpu')\n",
        "model_S = resnet18().to(device)\n",
        "x = torch.randn(3, 3, 224, 224).to(device)\n",
        "output = model_S(x)\n",
        "print(output.size())"
      ],
      "execution_count": 11,
      "outputs": [
        {
          "output_type": "stream",
          "name": "stdout",
          "text": [
            "torch.Size([3, 10])\n"
          ]
        }
      ]
    },
    {
      "cell_type": "code",
      "metadata": {
        "colab": {
          "base_uri": "https://localhost:8080/"
        },
        "id": "J384NeJe54Te",
        "outputId": "67dc595e-e169-4839-f676-c8b7565ba80b"
      },
      "source": [
        "summary(model_S, (3, 224, 224), device=device.type)"
      ],
      "execution_count": 12,
      "outputs": [
        {
          "output_type": "stream",
          "name": "stdout",
          "text": [
            "----------------------------------------------------------------\n",
            "        Layer (type)               Output Shape         Param #\n",
            "================================================================\n",
            "            Conv2d-1         [-1, 64, 112, 112]           9,408\n",
            "       BatchNorm2d-2         [-1, 64, 112, 112]             128\n",
            "              ReLU-3         [-1, 64, 112, 112]               0\n",
            "         MaxPool2d-4           [-1, 64, 56, 56]               0\n",
            "            Conv2d-5           [-1, 64, 56, 56]          36,864\n",
            "       BatchNorm2d-6           [-1, 64, 56, 56]             128\n",
            "              ReLU-7           [-1, 64, 56, 56]               0\n",
            "            Conv2d-8           [-1, 64, 56, 56]          36,864\n",
            "       BatchNorm2d-9           [-1, 64, 56, 56]             128\n",
            "             ReLU-10           [-1, 64, 56, 56]               0\n",
            "       BasicBlock-11           [-1, 64, 56, 56]               0\n",
            "           Conv2d-12           [-1, 64, 56, 56]          36,864\n",
            "      BatchNorm2d-13           [-1, 64, 56, 56]             128\n",
            "             ReLU-14           [-1, 64, 56, 56]               0\n",
            "           Conv2d-15           [-1, 64, 56, 56]          36,864\n",
            "      BatchNorm2d-16           [-1, 64, 56, 56]             128\n",
            "             ReLU-17           [-1, 64, 56, 56]               0\n",
            "       BasicBlock-18           [-1, 64, 56, 56]               0\n",
            "           Conv2d-19          [-1, 128, 28, 28]          73,728\n",
            "      BatchNorm2d-20          [-1, 128, 28, 28]             256\n",
            "             ReLU-21          [-1, 128, 28, 28]               0\n",
            "           Conv2d-22          [-1, 128, 28, 28]         147,456\n",
            "      BatchNorm2d-23          [-1, 128, 28, 28]             256\n",
            "           Conv2d-24          [-1, 128, 28, 28]           8,192\n",
            "      BatchNorm2d-25          [-1, 128, 28, 28]             256\n",
            "             ReLU-26          [-1, 128, 28, 28]               0\n",
            "       BasicBlock-27          [-1, 128, 28, 28]               0\n",
            "           Conv2d-28          [-1, 128, 28, 28]         147,456\n",
            "      BatchNorm2d-29          [-1, 128, 28, 28]             256\n",
            "             ReLU-30          [-1, 128, 28, 28]               0\n",
            "           Conv2d-31          [-1, 128, 28, 28]         147,456\n",
            "      BatchNorm2d-32          [-1, 128, 28, 28]             256\n",
            "             ReLU-33          [-1, 128, 28, 28]               0\n",
            "       BasicBlock-34          [-1, 128, 28, 28]               0\n",
            "           Conv2d-35          [-1, 256, 14, 14]         294,912\n",
            "      BatchNorm2d-36          [-1, 256, 14, 14]             512\n",
            "             ReLU-37          [-1, 256, 14, 14]               0\n",
            "           Conv2d-38          [-1, 256, 14, 14]         589,824\n",
            "      BatchNorm2d-39          [-1, 256, 14, 14]             512\n",
            "           Conv2d-40          [-1, 256, 14, 14]          32,768\n",
            "      BatchNorm2d-41          [-1, 256, 14, 14]             512\n",
            "             ReLU-42          [-1, 256, 14, 14]               0\n",
            "       BasicBlock-43          [-1, 256, 14, 14]               0\n",
            "           Conv2d-44          [-1, 256, 14, 14]         589,824\n",
            "      BatchNorm2d-45          [-1, 256, 14, 14]             512\n",
            "             ReLU-46          [-1, 256, 14, 14]               0\n",
            "           Conv2d-47          [-1, 256, 14, 14]         589,824\n",
            "      BatchNorm2d-48          [-1, 256, 14, 14]             512\n",
            "             ReLU-49          [-1, 256, 14, 14]               0\n",
            "       BasicBlock-50          [-1, 256, 14, 14]               0\n",
            "           Conv2d-51            [-1, 512, 7, 7]       1,179,648\n",
            "      BatchNorm2d-52            [-1, 512, 7, 7]           1,024\n",
            "             ReLU-53            [-1, 512, 7, 7]               0\n",
            "           Conv2d-54            [-1, 512, 7, 7]       2,359,296\n",
            "      BatchNorm2d-55            [-1, 512, 7, 7]           1,024\n",
            "           Conv2d-56            [-1, 512, 7, 7]         131,072\n",
            "      BatchNorm2d-57            [-1, 512, 7, 7]           1,024\n",
            "             ReLU-58            [-1, 512, 7, 7]               0\n",
            "       BasicBlock-59            [-1, 512, 7, 7]               0\n",
            "           Conv2d-60            [-1, 512, 7, 7]       2,359,296\n",
            "      BatchNorm2d-61            [-1, 512, 7, 7]           1,024\n",
            "             ReLU-62            [-1, 512, 7, 7]               0\n",
            "           Conv2d-63            [-1, 512, 7, 7]       2,359,296\n",
            "      BatchNorm2d-64            [-1, 512, 7, 7]           1,024\n",
            "             ReLU-65            [-1, 512, 7, 7]               0\n",
            "       BasicBlock-66            [-1, 512, 7, 7]               0\n",
            "AdaptiveAvgPool2d-67            [-1, 512, 1, 1]               0\n",
            "           Linear-68                   [-1, 10]           5,130\n",
            "================================================================\n",
            "Total params: 11,181,642\n",
            "Trainable params: 11,181,642\n",
            "Non-trainable params: 0\n",
            "----------------------------------------------------------------\n",
            "Input size (MB): 0.57\n",
            "Forward/backward pass size (MB): 62.79\n",
            "Params size (MB): 42.65\n",
            "Estimated Total Size (MB): 106.01\n",
            "----------------------------------------------------------------\n"
          ]
        }
      ]
    },
    {
      "cell_type": "markdown",
      "metadata": {
        "id": "gd2iObvHAARD"
      },
      "source": [
        "가중치 초기화 함수"
      ]
    },
    {
      "cell_type": "code",
      "metadata": {
        "id": "oWcJqy-G__H9"
      },
      "source": [
        "# weight initialization\n",
        "def initialize_weights(model):\n",
        "    classname = model.__class__.__name__\n",
        "    # fc layer\n",
        "    if classname.find('Linear') != -1:\n",
        "        nn.init.normal_(model.weight.data, 0.0, 0.02)\n",
        "        nn.init.constant_(model.bias.data, 0)\n",
        "    # batchnorm\n",
        "    elif classname.find('BatchNorm') != -1:\n",
        "        nn.init.normal_(model.weight.data, 1.0, 0.02)\n",
        "        nn.init.constant_(model.bias.data, 0)"
      ],
      "execution_count": 13,
      "outputs": []
    },
    {
      "cell_type": "markdown",
      "metadata": {
        "id": "uebu1pFB6HNA"
      },
      "source": [
        "Data Load\n",
        "\n",
        "1. Batch size 128\n",
        "2. Batch size 64\n",
        "3. Batch size 32"
      ]
    },
    {
      "cell_type": "code",
      "metadata": {
        "colab": {
          "base_uri": "https://localhost:8080/",
          "height": 138,
          "referenced_widgets": [
            "bd3093f57e284e568e177ec5064915f5",
            "f01d1e5ae6dd466a9d87ff77bdc3357f",
            "baa17eb501cd45ffa6f6f4c15443284c",
            "5f15b644d215409bbecb64b2368be2bd",
            "4c6765f1f007434e9cba08372eae9d1a",
            "b920e5129e154355bf45a3bc576e1f82",
            "9d6e4236df0e4911939c52016751608d",
            "7c95eb8350c84147a4ef9da709c1548e",
            "9ff74fd4369444b4bf6cd10bb8945bdb",
            "b285b47c1e094a96a047159e3f551941",
            "146ce627f4f64672a714c059d7d8432b"
          ]
        },
        "id": "CEnuAEEq6Vil",
        "outputId": "e44c1181-1520-42a1-8579-67550b79fa59"
      },
      "source": [
        "dataset_dir='./data'\n",
        "batch_size=128\n",
        "normalize = transforms.Normalize(mean=[0.507, 0.487, 0.441], std=[0.267, 0.256, 0.276])\n",
        "simple_transform = transforms.Compose([transforms.ToTensor(), normalize])\n",
        "\n",
        "train_transform = simple_transform\n",
        "\n",
        "trainset = torchvision.datasets.CIFAR10(root=dataset_dir, train=True,\n",
        "download=True, transform=train_transform)\n",
        "\n",
        "testset = torchvision.datasets.CIFAR10(root=dataset_dir, train=False,\n",
        "download=True, transform=simple_transform)\n",
        "\n",
        "trainloader = torch.utils.data.DataLoader(trainset, batch_size=batch_size,\n",
        "pin_memory=True, shuffle=True)\n",
        "testloader = torch.utils.data.DataLoader(testset, batch_size=batch_size,\n",
        "pin_memory=True, shuffle=False)\n",
        "\n",
        "  \n",
        "\n",
        "print(\"CIFAR10\")\n",
        "print(\"---\"*20)"
      ],
      "execution_count": 14,
      "outputs": [
        {
          "output_type": "stream",
          "name": "stdout",
          "text": [
            "Downloading https://www.cs.toronto.edu/~kriz/cifar-10-python.tar.gz to ./data/cifar-10-python.tar.gz\n"
          ]
        },
        {
          "output_type": "display_data",
          "data": {
            "application/vnd.jupyter.widget-view+json": {
              "model_id": "bd3093f57e284e568e177ec5064915f5",
              "version_minor": 0,
              "version_major": 2
            },
            "text/plain": [
              "  0%|          | 0/170498071 [00:00<?, ?it/s]"
            ]
          },
          "metadata": {}
        },
        {
          "output_type": "stream",
          "name": "stdout",
          "text": [
            "Extracting ./data/cifar-10-python.tar.gz to ./data\n",
            "Files already downloaded and verified\n",
            "CIFAR10\n",
            "------------------------------------------------------------\n"
          ]
        }
      ]
    },
    {
      "cell_type": "markdown",
      "metadata": {
        "id": "P7uOnmEM61Ru"
      },
      "source": [
        "모델 학습 함수\n",
        "1. Learning Rate 0.01 \n",
        "2. Learning Rate 0.001\n",
        "3. Learning Rate 0.1\n",
        "->사실상 lr scheduler에 의해 조절된다. epoch가 늘어나면 해결되는 현상."
      ]
    },
    {
      "cell_type": "markdown",
      "metadata": {
        "id": "FUGN4uP_79tI"
      },
      "source": [
        "Colab설정상 많은 epoch를 실행시킬 수 없으므로, patience를 낮춰 조절해본다."
      ]
    },
    {
      "cell_type": "code",
      "metadata": {
        "id": "ts3bZsvg642n"
      },
      "source": [
        "loss_func = nn.CrossEntropyLoss(reduction='sum')\n",
        "opt = optim.Adam(model_S.parameters(), lr=0.01)\n",
        "\n",
        "from torch.optim.lr_scheduler import ReduceLROnPlateau\n",
        "lr_scheduler = ReduceLROnPlateau(opt, mode='min', factor=0.1, patience=5)"
      ],
      "execution_count": 15,
      "outputs": []
    },
    {
      "cell_type": "markdown",
      "metadata": {
        "id": "CZsdSAx27ouX"
      },
      "source": [
        "![image.png](data:image/png;base64,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)"
      ]
    },
    {
      "cell_type": "code",
      "metadata": {
        "id": "ELvoJgcx7ihU"
      },
      "source": [
        "def get_lr(opt):\n",
        "    for param_group in opt.param_groups:\n",
        "        return param_group['lr']"
      ],
      "execution_count": 16,
      "outputs": []
    },
    {
      "cell_type": "code",
      "metadata": {
        "id": "Iw77DOiM8Mcf"
      },
      "source": [
        "def metric_batch(output, target):\n",
        "    pred = output.argmax(1, keepdim=True)\n",
        "    corrects = pred.eq(target.view_as(pred)).sum().item()\n",
        "    return corrects\n",
        "\n",
        "\n",
        "# function to calculate loss per mini-batch\n",
        "def loss_batch(loss_func, output, target, opt=None):\n",
        "    loss = loss_func(output, target)\n",
        "    metric_b = metric_batch(output, target)\n",
        "\n",
        "    if opt is not None:\n",
        "        opt.zero_grad()\n",
        "        loss.backward()\n",
        "        opt.step()\n",
        "\n",
        "    return loss.item(), metric_b"
      ],
      "execution_count": 17,
      "outputs": []
    },
    {
      "cell_type": "code",
      "metadata": {
        "id": "owb5WLJ18O6X"
      },
      "source": [
        "def loss_epoch(model, loss_func, dataset_dl, sanity_check=False, opt=None):\n",
        "    running_loss = 0.0\n",
        "    running_metric = 0.0\n",
        "    len_data = len(dataset_dl.dataset)\n",
        "\n",
        "    for xb, yb in dataset_dl:\n",
        "        xb = xb.to(device)\n",
        "        yb = yb.to(device)\n",
        "        output = model(xb)\n",
        "\n",
        "        loss_b, metric_b = loss_batch(loss_func, output, yb, opt)\n",
        "\n",
        "        running_loss += loss_b\n",
        "        \n",
        "        if metric_b is not None:\n",
        "            running_metric += metric_b\n",
        "        \n",
        "        if sanity_check is True:\n",
        "            break\n",
        "\n",
        "    loss = running_loss / len_data\n",
        "    metric = running_metric / len_data\n",
        "\n",
        "    return loss, metric"
      ],
      "execution_count": 18,
      "outputs": []
    },
    {
      "cell_type": "code",
      "metadata": {
        "id": "ZvLDDkNs8TWN"
      },
      "source": [
        "def train_val(model, params):\n",
        "    num_epochs=params['num_epochs']\n",
        "    loss_func=params['loss_func']\n",
        "    opt=params['optimizer']\n",
        "    train_dl=params['train_dl']\n",
        "    val_dl=params['val_dl']\n",
        "    sanity_check=params['sanity_check']\n",
        "    lr_scheduler=params['lr_scheduler']\n",
        "    path2weights=params['path2weights']\n",
        "\n",
        "    loss_history = {'train': [], 'val': []}\n",
        "    metric_history = {'train': [], 'val': []}\n",
        "\n",
        "    best_loss = float('inf')\n",
        "    best_model_wts = copy.deepcopy(model.state_dict())\n",
        "    start_time = time.time()\n",
        "\n",
        "    for epoch in range(num_epochs):\n",
        "        current_lr = get_lr(opt)\n",
        "        print('Epoch {}/{}, current lr= {}'.format(epoch, num_epochs-1, current_lr))\n",
        "\n",
        "        model.train()\n",
        "        train_loss, train_metric = loss_epoch(model, loss_func, train_dl, sanity_check, opt)\n",
        "        loss_history['train'].append(train_loss)\n",
        "        metric_history['train'].append(train_metric)\n",
        "\n",
        "        model.eval()\n",
        "        with torch.no_grad():\n",
        "            val_loss, val_metric = loss_epoch(model, loss_func, val_dl, sanity_check)\n",
        "        loss_history['val'].append(val_loss)\n",
        "        metric_history['val'].append(val_metric)\n",
        "\n",
        "        if val_loss < best_loss:\n",
        "            best_loss = val_loss\n",
        "            best_model_wts = copy.deepcopy(model.state_dict())\n",
        "            torch.save(model.state_dict(), path2weights)\n",
        "            print('Copied best model weights!')\n",
        "\n",
        "        lr_scheduler.step(val_loss)\n",
        "        if current_lr != get_lr(opt):\n",
        "            print('Loading best model weights!')\n",
        "            model.load_state_dict(best_model_wts)\n",
        "\n",
        "        print('train loss: %.6f, val loss: %.6f, accuracy: %.2f, time: %.4f min' %(train_loss, val_loss, 100*val_metric, (time.time()-start_time)/60))\n",
        "        print('-'*10)\n",
        "\n",
        "    model.load_state_dict(best_model_wts)\n",
        "    return model, loss_history, metric_history"
      ],
      "execution_count": 19,
      "outputs": []
    },
    {
      "cell_type": "markdown",
      "metadata": {
        "id": "K7ooNACE8fRr"
      },
      "source": [
        "학습 parameter 설정"
      ]
    },
    {
      "cell_type": "code",
      "metadata": {
        "id": "UBSB7-D08eUT"
      },
      "source": [
        "params_train = {\n",
        "    'num_epochs':30,\n",
        "    'optimizer':opt,\n",
        "    'loss_func':loss_func,\n",
        "    'train_dl':trainloader,\n",
        "    'val_dl':testloader,\n",
        "    'sanity_check':False,\n",
        "    'lr_scheduler':lr_scheduler,\n",
        "    'path2weights':'./models/weights.pt',\n",
        "}\n",
        "\n",
        "# create the directory that stores weights.pt\n",
        "def createFolder(directory):\n",
        "    try:\n",
        "        if not os.path.exists(directory):\n",
        "            os.makedirs(directory)\n",
        "    except OSerror:\n",
        "        print('Error')\n",
        "createFolder('./models')"
      ],
      "execution_count": 20,
      "outputs": []
    },
    {
      "cell_type": "markdown",
      "metadata": {
        "id": "p9hWdF1z8mi1"
      },
      "source": [
        "Student(BaseLine) 학습 시작"
      ]
    },
    {
      "cell_type": "code",
      "metadata": {
        "id": "F8GTreY1_kgW"
      },
      "source": [
        "model_S.apply(initialize_weights);"
      ],
      "execution_count": 21,
      "outputs": []
    },
    {
      "cell_type": "code",
      "metadata": {
        "colab": {
          "base_uri": "https://localhost:8080/"
        },
        "id": "tuspeBVz8lN2",
        "outputId": "b34ad05e-80b7-46ab-9abc-f534c328eafb"
      },
      "source": [
        "model_S, loss_hist, metric_hist = train_val(model_S, params_train)"
      ],
      "execution_count": 22,
      "outputs": [
        {
          "output_type": "stream",
          "name": "stdout",
          "text": [
            "Epoch 0/29, current lr= 0.01\n",
            "Copied best model weights!\n",
            "train loss: 1.711388, val loss: 1.579254, accuracy: 44.68, time: 0.7500 min\n",
            "----------\n",
            "Epoch 1/29, current lr= 0.01\n",
            "Copied best model weights!\n",
            "train loss: 1.204777, val loss: 1.073261, accuracy: 62.23, time: 1.5000 min\n",
            "----------\n",
            "Epoch 2/29, current lr= 0.01\n",
            "Copied best model weights!\n",
            "train loss: 0.965355, val loss: 0.959381, accuracy: 65.98, time: 2.2499 min\n",
            "----------\n",
            "Epoch 3/29, current lr= 0.01\n",
            "train loss: 0.815599, val loss: 1.024058, accuracy: 66.49, time: 2.9925 min\n",
            "----------\n",
            "Epoch 4/29, current lr= 0.01\n",
            "Copied best model weights!\n",
            "train loss: 0.706647, val loss: 0.839292, accuracy: 71.60, time: 3.7467 min\n",
            "----------\n",
            "Epoch 5/29, current lr= 0.01\n",
            "Copied best model weights!\n",
            "train loss: 0.607139, val loss: 0.791368, accuracy: 73.42, time: 4.5064 min\n",
            "----------\n",
            "Epoch 6/29, current lr= 0.01\n",
            "Copied best model weights!\n",
            "train loss: 0.514596, val loss: 0.778673, accuracy: 74.45, time: 5.2585 min\n",
            "----------\n",
            "Epoch 7/29, current lr= 0.01\n",
            "train loss: 0.434615, val loss: 0.804075, accuracy: 74.16, time: 6.0085 min\n",
            "----------\n",
            "Epoch 8/29, current lr= 0.01\n",
            "train loss: 0.352092, val loss: 0.834583, accuracy: 74.81, time: 6.7577 min\n",
            "----------\n",
            "Epoch 9/29, current lr= 0.01\n",
            "train loss: 0.288362, val loss: 0.890878, accuracy: 74.92, time: 7.5088 min\n",
            "----------\n",
            "Epoch 10/29, current lr= 0.01\n",
            "train loss: 0.232206, val loss: 1.030513, accuracy: 73.14, time: 8.2576 min\n",
            "----------\n",
            "Epoch 11/29, current lr= 0.01\n",
            "train loss: 0.203134, val loss: 1.038997, accuracy: 74.31, time: 9.0035 min\n",
            "----------\n",
            "Epoch 12/29, current lr= 0.01\n",
            "Loading best model weights!\n",
            "train loss: 0.166958, val loss: 1.067092, accuracy: 74.25, time: 9.7540 min\n",
            "----------\n",
            "Epoch 13/29, current lr= 0.001\n",
            "Copied best model weights!\n",
            "train loss: 0.262217, val loss: 0.758679, accuracy: 77.33, time: 10.5053 min\n",
            "----------\n",
            "Epoch 14/29, current lr= 0.001\n",
            "train loss: 0.173463, val loss: 0.849351, accuracy: 77.01, time: 11.2542 min\n",
            "----------\n",
            "Epoch 15/29, current lr= 0.001\n",
            "train loss: 0.120463, val loss: 0.958514, accuracy: 77.21, time: 12.0019 min\n",
            "----------\n",
            "Epoch 16/29, current lr= 0.001\n",
            "train loss: 0.078110, val loss: 1.124815, accuracy: 76.84, time: 12.7450 min\n",
            "----------\n",
            "Epoch 17/29, current lr= 0.001\n",
            "train loss: 0.047089, val loss: 1.283693, accuracy: 76.97, time: 13.4907 min\n",
            "----------\n",
            "Epoch 18/29, current lr= 0.001\n",
            "train loss: 0.032666, val loss: 1.428144, accuracy: 76.55, time: 14.2361 min\n",
            "----------\n",
            "Epoch 19/29, current lr= 0.001\n",
            "Loading best model weights!\n",
            "train loss: 0.023512, val loss: 1.521395, accuracy: 76.77, time: 14.9827 min\n",
            "----------\n",
            "Epoch 20/29, current lr= 0.0001\n",
            "train loss: 0.170082, val loss: 0.805131, accuracy: 77.41, time: 15.7235 min\n",
            "----------\n",
            "Epoch 21/29, current lr= 0.0001\n",
            "train loss: 0.157403, val loss: 0.819720, accuracy: 77.53, time: 16.4647 min\n",
            "----------\n",
            "Epoch 22/29, current lr= 0.0001\n",
            "train loss: 0.148209, val loss: 0.852718, accuracy: 77.49, time: 17.2089 min\n",
            "----------\n",
            "Epoch 23/29, current lr= 0.0001\n",
            "train loss: 0.138251, val loss: 0.875518, accuracy: 77.45, time: 17.9547 min\n",
            "----------\n",
            "Epoch 24/29, current lr= 0.0001\n",
            "train loss: 0.129649, val loss: 0.891532, accuracy: 77.44, time: 18.7020 min\n",
            "----------\n",
            "Epoch 25/29, current lr= 0.0001\n",
            "Loading best model weights!\n",
            "train loss: 0.121203, val loss: 0.923650, accuracy: 77.31, time: 19.4459 min\n",
            "----------\n",
            "Epoch 26/29, current lr= 1e-05\n",
            "train loss: 0.174763, val loss: 0.778930, accuracy: 77.47, time: 20.1894 min\n",
            "----------\n",
            "Epoch 27/29, current lr= 1e-05\n",
            "train loss: 0.171994, val loss: 0.774991, accuracy: 77.33, time: 20.9349 min\n",
            "----------\n",
            "Epoch 28/29, current lr= 1e-05\n",
            "train loss: 0.168691, val loss: 0.787139, accuracy: 77.50, time: 21.6769 min\n",
            "----------\n",
            "Epoch 29/29, current lr= 1e-05\n",
            "train loss: 0.167679, val loss: 0.792444, accuracy: 77.57, time: 22.4195 min\n",
            "----------\n"
          ]
        }
      ]
    },
    {
      "cell_type": "markdown",
      "metadata": {
        "id": "-pvFgYmw9KDP"
      },
      "source": [
        "BaseLine Chart"
      ]
    },
    {
      "cell_type": "code",
      "metadata": {
        "colab": {
          "base_uri": "https://localhost:8080/",
          "height": 572
        },
        "id": "Joyk974c9NFH",
        "outputId": "4683bca4-732f-4be1-fa92-5c8d284bb5fa"
      },
      "source": [
        "# Train-Validation Progress\n",
        "num_epochs=params_train[\"num_epochs\"]\n",
        "\n",
        "# plot loss progress\n",
        "plt.title(\"Train-Val Loss\")\n",
        "plt.plot(range(1,num_epochs+1),loss_hist[\"train\"],label=\"train\")\n",
        "plt.plot(range(1,num_epochs+1),loss_hist[\"val\"],label=\"val\")\n",
        "plt.ylabel(\"Loss\")\n",
        "plt.xlabel(\"Training Epochs\")\n",
        "plt.legend()\n",
        "plt.show()\n",
        "\n",
        "# plot accuracy progress\n",
        "plt.title(\"Train-Val Accuracy\")\n",
        "plt.plot(range(1,num_epochs+1),metric_hist[\"train\"],label=\"train\")\n",
        "plt.plot(range(1,num_epochs+1),metric_hist[\"val\"],label=\"val\")\n",
        "plt.ylabel(\"Accuracy\")\n",
        "plt.xlabel(\"Training Epochs\")\n",
        "plt.legend()\n",
        "plt.show()"
      ],
      "execution_count": 23,
      "outputs": [
        {
          "output_type": "display_data",
          "data": {
            "image/png": "[encoded data removed]",
            "text/plain": [
              "<Figure size 432x288 with 1 Axes>"
            ]
          },
          "metadata": {
            "needs_background": "light"
          }
        },
        {
          "output_type": "display_data",
          "data": {
            "image/png": "[encoded data removed]",
            "text/plain": [
              "<Figure size 432x288 with 1 Axes>"
            ]
          },
          "metadata": {
            "needs_background": "light"
          }
        }
      ]
    },
    {
      "cell_type": "markdown",
      "metadata": {
        "id": "E8r-2EPV5qUQ"
      },
      "source": [
        "Model check_Teacher"
      ]
    },
    {
      "cell_type": "code",
      "metadata": {
        "colab": {
          "base_uri": "https://localhost:8080/"
        },
        "id": "e1MEz7zv5vbj",
        "outputId": "1c935497-f8aa-4fc8-9a35-509acfa05e13"
      },
      "source": [
        "device = torch.device('cuda' if torch.cuda.is_available() else 'cpu')\n",
        "model_T = resnet50().to(device)\n",
        "x = torch.randn(3, 3, 224, 224).to(device)\n",
        "output = model_T(x)\n",
        "print(output.size())"
      ],
      "execution_count": 24,
      "outputs": [
        {
          "output_type": "stream",
          "name": "stdout",
          "text": [
            "torch.Size([3, 10])\n"
          ]
        }
      ]
    },
    {
      "cell_type": "code",
      "metadata": {
        "id": "SlLQhet856L7",
        "colab": {
          "base_uri": "https://localhost:8080/"
        },
        "outputId": "7d0c6b20-8c56-4f9a-e4e5-f1b7b529db23"
      },
      "source": [
        "summary(model_T, (3, 224, 224), device=device.type)"
      ],
      "execution_count": 25,
      "outputs": [
        {
          "output_type": "stream",
          "name": "stdout",
          "text": [
            "----------------------------------------------------------------\n",
            "        Layer (type)               Output Shape         Param #\n",
            "================================================================\n",
            "            Conv2d-1         [-1, 64, 112, 112]           9,408\n",
            "       BatchNorm2d-2         [-1, 64, 112, 112]             128\n",
            "              ReLU-3         [-1, 64, 112, 112]               0\n",
            "         MaxPool2d-4           [-1, 64, 56, 56]               0\n",
            "            Conv2d-5           [-1, 64, 56, 56]           4,096\n",
            "       BatchNorm2d-6           [-1, 64, 56, 56]             128\n",
            "              ReLU-7           [-1, 64, 56, 56]               0\n",
            "            Conv2d-8           [-1, 64, 56, 56]          36,864\n",
            "       BatchNorm2d-9           [-1, 64, 56, 56]             128\n",
            "             ReLU-10           [-1, 64, 56, 56]               0\n",
            "           Conv2d-11          [-1, 256, 56, 56]          16,384\n",
            "      BatchNorm2d-12          [-1, 256, 56, 56]             512\n",
            "           Conv2d-13          [-1, 256, 56, 56]          16,384\n",
            "      BatchNorm2d-14          [-1, 256, 56, 56]             512\n",
            "             ReLU-15          [-1, 256, 56, 56]               0\n",
            "       BottleNeck-16          [-1, 256, 56, 56]               0\n",
            "           Conv2d-17           [-1, 64, 56, 56]          16,384\n",
            "      BatchNorm2d-18           [-1, 64, 56, 56]             128\n",
            "             ReLU-19           [-1, 64, 56, 56]               0\n",
            "           Conv2d-20           [-1, 64, 56, 56]          36,864\n",
            "      BatchNorm2d-21           [-1, 64, 56, 56]             128\n",
            "             ReLU-22           [-1, 64, 56, 56]               0\n",
            "           Conv2d-23          [-1, 256, 56, 56]          16,384\n",
            "      BatchNorm2d-24          [-1, 256, 56, 56]             512\n",
            "             ReLU-25          [-1, 256, 56, 56]               0\n",
            "       BottleNeck-26          [-1, 256, 56, 56]               0\n",
            "           Conv2d-27           [-1, 64, 56, 56]          16,384\n",
            "      BatchNorm2d-28           [-1, 64, 56, 56]             128\n",
            "             ReLU-29           [-1, 64, 56, 56]               0\n",
            "           Conv2d-30           [-1, 64, 56, 56]          36,864\n",
            "      BatchNorm2d-31           [-1, 64, 56, 56]             128\n",
            "             ReLU-32           [-1, 64, 56, 56]               0\n",
            "           Conv2d-33          [-1, 256, 56, 56]          16,384\n",
            "      BatchNorm2d-34          [-1, 256, 56, 56]             512\n",
            "             ReLU-35          [-1, 256, 56, 56]               0\n",
            "       BottleNeck-36          [-1, 256, 56, 56]               0\n",
            "           Conv2d-37          [-1, 128, 56, 56]          32,768\n",
            "      BatchNorm2d-38          [-1, 128, 56, 56]             256\n",
            "             ReLU-39          [-1, 128, 56, 56]               0\n",
            "           Conv2d-40          [-1, 128, 28, 28]         147,456\n",
            "      BatchNorm2d-41          [-1, 128, 28, 28]             256\n",
            "             ReLU-42          [-1, 128, 28, 28]               0\n",
            "           Conv2d-43          [-1, 512, 28, 28]          65,536\n",
            "      BatchNorm2d-44          [-1, 512, 28, 28]           1,024\n",
            "           Conv2d-45          [-1, 512, 28, 28]         131,072\n",
            "      BatchNorm2d-46          [-1, 512, 28, 28]           1,024\n",
            "             ReLU-47          [-1, 512, 28, 28]               0\n",
            "       BottleNeck-48          [-1, 512, 28, 28]               0\n",
            "           Conv2d-49          [-1, 128, 28, 28]          65,536\n",
            "      BatchNorm2d-50          [-1, 128, 28, 28]             256\n",
            "             ReLU-51          [-1, 128, 28, 28]               0\n",
            "           Conv2d-52          [-1, 128, 28, 28]         147,456\n",
            "      BatchNorm2d-53          [-1, 128, 28, 28]             256\n",
            "             ReLU-54          [-1, 128, 28, 28]               0\n",
            "           Conv2d-55          [-1, 512, 28, 28]          65,536\n",
            "      BatchNorm2d-56          [-1, 512, 28, 28]           1,024\n",
            "             ReLU-57          [-1, 512, 28, 28]               0\n",
            "       BottleNeck-58          [-1, 512, 28, 28]               0\n",
            "           Conv2d-59          [-1, 128, 28, 28]          65,536\n",
            "      BatchNorm2d-60          [-1, 128, 28, 28]             256\n",
            "             ReLU-61          [-1, 128, 28, 28]               0\n",
            "           Conv2d-62          [-1, 128, 28, 28]         147,456\n",
            "      BatchNorm2d-63          [-1, 128, 28, 28]             256\n",
            "             ReLU-64          [-1, 128, 28, 28]               0\n",
            "           Conv2d-65          [-1, 512, 28, 28]          65,536\n",
            "      BatchNorm2d-66          [-1, 512, 28, 28]           1,024\n",
            "             ReLU-67          [-1, 512, 28, 28]               0\n",
            "       BottleNeck-68          [-1, 512, 28, 28]               0\n",
            "           Conv2d-69          [-1, 128, 28, 28]          65,536\n",
            "      BatchNorm2d-70          [-1, 128, 28, 28]             256\n",
            "             ReLU-71          [-1, 128, 28, 28]               0\n",
            "           Conv2d-72          [-1, 128, 28, 28]         147,456\n",
            "      BatchNorm2d-73          [-1, 128, 28, 28]             256\n",
            "             ReLU-74          [-1, 128, 28, 28]               0\n",
            "           Conv2d-75          [-1, 512, 28, 28]          65,536\n",
            "      BatchNorm2d-76          [-1, 512, 28, 28]           1,024\n",
            "             ReLU-77          [-1, 512, 28, 28]               0\n",
            "       BottleNeck-78          [-1, 512, 28, 28]               0\n",
            "           Conv2d-79          [-1, 256, 28, 28]         131,072\n",
            "      BatchNorm2d-80          [-1, 256, 28, 28]             512\n",
            "             ReLU-81          [-1, 256, 28, 28]               0\n",
            "           Conv2d-82          [-1, 256, 14, 14]         589,824\n",
            "      BatchNorm2d-83          [-1, 256, 14, 14]             512\n",
            "             ReLU-84          [-1, 256, 14, 14]               0\n",
            "           Conv2d-85         [-1, 1024, 14, 14]         262,144\n",
            "      BatchNorm2d-86         [-1, 1024, 14, 14]           2,048\n",
            "           Conv2d-87         [-1, 1024, 14, 14]         524,288\n",
            "      BatchNorm2d-88         [-1, 1024, 14, 14]           2,048\n",
            "             ReLU-89         [-1, 1024, 14, 14]               0\n",
            "       BottleNeck-90         [-1, 1024, 14, 14]               0\n",
            "           Conv2d-91          [-1, 256, 14, 14]         262,144\n",
            "      BatchNorm2d-92          [-1, 256, 14, 14]             512\n",
            "             ReLU-93          [-1, 256, 14, 14]               0\n",
            "           Conv2d-94          [-1, 256, 14, 14]         589,824\n",
            "      BatchNorm2d-95          [-1, 256, 14, 14]             512\n",
            "             ReLU-96          [-1, 256, 14, 14]               0\n",
            "           Conv2d-97         [-1, 1024, 14, 14]         262,144\n",
            "      BatchNorm2d-98         [-1, 1024, 14, 14]           2,048\n",
            "             ReLU-99         [-1, 1024, 14, 14]               0\n",
            "      BottleNeck-100         [-1, 1024, 14, 14]               0\n",
            "          Conv2d-101          [-1, 256, 14, 14]         262,144\n",
            "     BatchNorm2d-102          [-1, 256, 14, 14]             512\n",
            "            ReLU-103          [-1, 256, 14, 14]               0\n",
            "          Conv2d-104          [-1, 256, 14, 14]         589,824\n",
            "     BatchNorm2d-105          [-1, 256, 14, 14]             512\n",
            "            ReLU-106          [-1, 256, 14, 14]               0\n",
            "          Conv2d-107         [-1, 1024, 14, 14]         262,144\n",
            "     BatchNorm2d-108         [-1, 1024, 14, 14]           2,048\n",
            "            ReLU-109         [-1, 1024, 14, 14]               0\n",
            "      BottleNeck-110         [-1, 1024, 14, 14]               0\n",
            "          Conv2d-111          [-1, 256, 14, 14]         262,144\n",
            "     BatchNorm2d-112          [-1, 256, 14, 14]             512\n",
            "            ReLU-113          [-1, 256, 14, 14]               0\n",
            "          Conv2d-114          [-1, 256, 14, 14]         589,824\n",
            "     BatchNorm2d-115          [-1, 256, 14, 14]             512\n",
            "            ReLU-116          [-1, 256, 14, 14]               0\n",
            "          Conv2d-117         [-1, 1024, 14, 14]         262,144\n",
            "     BatchNorm2d-118         [-1, 1024, 14, 14]           2,048\n",
            "            ReLU-119         [-1, 1024, 14, 14]               0\n",
            "      BottleNeck-120         [-1, 1024, 14, 14]               0\n",
            "          Conv2d-121          [-1, 256, 14, 14]         262,144\n",
            "     BatchNorm2d-122          [-1, 256, 14, 14]             512\n",
            "            ReLU-123          [-1, 256, 14, 14]               0\n",
            "          Conv2d-124          [-1, 256, 14, 14]         589,824\n",
            "     BatchNorm2d-125          [-1, 256, 14, 14]             512\n",
            "            ReLU-126          [-1, 256, 14, 14]               0\n",
            "          Conv2d-127         [-1, 1024, 14, 14]         262,144\n",
            "     BatchNorm2d-128         [-1, 1024, 14, 14]           2,048\n",
            "            ReLU-129         [-1, 1024, 14, 14]               0\n",
            "      BottleNeck-130         [-1, 1024, 14, 14]               0\n",
            "          Conv2d-131          [-1, 256, 14, 14]         262,144\n",
            "     BatchNorm2d-132          [-1, 256, 14, 14]             512\n",
            "            ReLU-133          [-1, 256, 14, 14]               0\n",
            "          Conv2d-134          [-1, 256, 14, 14]         589,824\n",
            "     BatchNorm2d-135          [-1, 256, 14, 14]             512\n",
            "            ReLU-136          [-1, 256, 14, 14]               0\n",
            "          Conv2d-137         [-1, 1024, 14, 14]         262,144\n",
            "     BatchNorm2d-138         [-1, 1024, 14, 14]           2,048\n",
            "            ReLU-139         [-1, 1024, 14, 14]               0\n",
            "      BottleNeck-140         [-1, 1024, 14, 14]               0\n",
            "          Conv2d-141          [-1, 512, 14, 14]         524,288\n",
            "     BatchNorm2d-142          [-1, 512, 14, 14]           1,024\n",
            "            ReLU-143          [-1, 512, 14, 14]               0\n",
            "          Conv2d-144            [-1, 512, 7, 7]       2,359,296\n",
            "     BatchNorm2d-145            [-1, 512, 7, 7]           1,024\n",
            "            ReLU-146            [-1, 512, 7, 7]               0\n",
            "          Conv2d-147           [-1, 2048, 7, 7]       1,048,576\n",
            "     BatchNorm2d-148           [-1, 2048, 7, 7]           4,096\n",
            "          Conv2d-149           [-1, 2048, 7, 7]       2,097,152\n",
            "     BatchNorm2d-150           [-1, 2048, 7, 7]           4,096\n",
            "            ReLU-151           [-1, 2048, 7, 7]               0\n",
            "      BottleNeck-152           [-1, 2048, 7, 7]               0\n",
            "          Conv2d-153            [-1, 512, 7, 7]       1,048,576\n",
            "     BatchNorm2d-154            [-1, 512, 7, 7]           1,024\n",
            "            ReLU-155            [-1, 512, 7, 7]               0\n",
            "          Conv2d-156            [-1, 512, 7, 7]       2,359,296\n",
            "     BatchNorm2d-157            [-1, 512, 7, 7]           1,024\n",
            "            ReLU-158            [-1, 512, 7, 7]               0\n",
            "          Conv2d-159           [-1, 2048, 7, 7]       1,048,576\n",
            "     BatchNorm2d-160           [-1, 2048, 7, 7]           4,096\n",
            "            ReLU-161           [-1, 2048, 7, 7]               0\n",
            "      BottleNeck-162           [-1, 2048, 7, 7]               0\n",
            "          Conv2d-163            [-1, 512, 7, 7]       1,048,576\n",
            "     BatchNorm2d-164            [-1, 512, 7, 7]           1,024\n",
            "            ReLU-165            [-1, 512, 7, 7]               0\n",
            "          Conv2d-166            [-1, 512, 7, 7]       2,359,296\n",
            "     BatchNorm2d-167            [-1, 512, 7, 7]           1,024\n",
            "            ReLU-168            [-1, 512, 7, 7]               0\n",
            "          Conv2d-169           [-1, 2048, 7, 7]       1,048,576\n",
            "     BatchNorm2d-170           [-1, 2048, 7, 7]           4,096\n",
            "            ReLU-171           [-1, 2048, 7, 7]               0\n",
            "      BottleNeck-172           [-1, 2048, 7, 7]               0\n",
            "AdaptiveAvgPool2d-173           [-1, 2048, 1, 1]               0\n",
            "          Linear-174                   [-1, 10]          20,490\n",
            "================================================================\n",
            "Total params: 23,528,522\n",
            "Trainable params: 23,528,522\n",
            "Non-trainable params: 0\n",
            "----------------------------------------------------------------\n",
            "Input size (MB): 0.57\n",
            "Forward/backward pass size (MB): 286.55\n",
            "Params size (MB): 89.75\n",
            "Estimated Total Size (MB): 376.88\n",
            "----------------------------------------------------------------\n"
          ]
        }
      ]
    },
    {
      "cell_type": "markdown",
      "metadata": {
        "id": "NTGsbthX-t7n"
      },
      "source": [
        "model_T weight 초기화"
      ]
    },
    {
      "cell_type": "code",
      "metadata": {
        "id": "fPcZ43YM-tew"
      },
      "source": [
        "model_T.apply(initialize_weights);"
      ],
      "execution_count": 26,
      "outputs": []
    },
    {
      "cell_type": "code",
      "metadata": {
        "id": "nc0uRNEc_fHu"
      },
      "source": [
        "loss_func = nn.CrossEntropyLoss(reduction='sum')\n",
        "opt = optim.Adam(model_T.parameters(), lr=0.01)\n",
        "\n",
        "from torch.optim.lr_scheduler import ReduceLROnPlateau\n",
        "lr_scheduler = ReduceLROnPlateau(opt, mode='min', factor=0.1, patience=5)"
      ],
      "execution_count": 27,
      "outputs": []
    },
    {
      "cell_type": "markdown",
      "metadata": {
        "id": "V6EMS_Kv-17L"
      },
      "source": [
        "Teacher 학습을 위한 parameter 정의"
      ]
    },
    {
      "cell_type": "code",
      "metadata": {
        "id": "i3Tg_iu3_NBm"
      },
      "source": [
        "params_train = {\n",
        "    'num_epochs':30,\n",
        "    'optimizer':opt,\n",
        "    'loss_func':loss_func,\n",
        "    'train_dl':trainloader,\n",
        "    'val_dl':testloader,\n",
        "    'sanity_check':False,\n",
        "    'lr_scheduler':lr_scheduler,\n",
        "    'path2weights':'./models/teacher_weights.pt',\n",
        "}\n",
        "def createFolder(directory):\n",
        "    try:\n",
        "        if not os.path.exists(directory):\n",
        "            os.makedirs(directory)\n",
        "    except OSerror:\n",
        "        print('Error')\n",
        "createFolder('./models')"
      ],
      "execution_count": 28,
      "outputs": []
    },
    {
      "cell_type": "code",
      "metadata": {
        "colab": {
          "base_uri": "https://localhost:8080/"
        },
        "id": "oGr60Klx_S0Y",
        "outputId": "a8b50d10-e2f7-4f36-be1f-8569b6d3c917"
      },
      "source": [
        "model_T, loss_hist, metric_hist = train_val(model_T, params_train)"
      ],
      "execution_count": 29,
      "outputs": [
        {
          "output_type": "stream",
          "name": "stdout",
          "text": [
            "Epoch 0/29, current lr= 0.01\n",
            "Copied best model weights!\n",
            "train loss: 2.539323, val loss: 2.305625, accuracy: 32.82, time: 1.4360 min\n",
            "----------\n",
            "Epoch 1/29, current lr= 0.01\n",
            "Copied best model weights!\n",
            "train loss: 1.541639, val loss: 1.482956, accuracy: 48.08, time: 2.8614 min\n",
            "----------\n",
            "Epoch 2/29, current lr= 0.01\n",
            "Copied best model weights!\n",
            "train loss: 1.491801, val loss: 1.389734, accuracy: 49.97, time: 4.2921 min\n",
            "----------\n",
            "Epoch 3/29, current lr= 0.01\n",
            "Copied best model weights!\n",
            "train loss: 1.316408, val loss: 1.368121, accuracy: 52.01, time: 5.7188 min\n",
            "----------\n",
            "Epoch 4/29, current lr= 0.01\n",
            "train loss: 1.199183, val loss: 1.495461, accuracy: 46.91, time: 7.1442 min\n",
            "----------\n",
            "Epoch 5/29, current lr= 0.01\n",
            "Copied best model weights!\n",
            "train loss: 1.195044, val loss: 1.138292, accuracy: 59.85, time: 8.5713 min\n",
            "----------\n",
            "Epoch 6/29, current lr= 0.01\n",
            "Copied best model weights!\n",
            "train loss: 1.016069, val loss: 1.032868, accuracy: 62.99, time: 10.0000 min\n",
            "----------\n",
            "Epoch 7/29, current lr= 0.01\n",
            "train loss: 0.905028, val loss: 1.044540, accuracy: 66.25, time: 11.4252 min\n",
            "----------\n",
            "Epoch 8/29, current lr= 0.01\n",
            "Copied best model weights!\n",
            "train loss: 0.841993, val loss: 0.970961, accuracy: 66.43, time: 12.8545 min\n",
            "----------\n",
            "Epoch 9/29, current lr= 0.01\n",
            "train loss: 0.875097, val loss: 1.034657, accuracy: 65.55, time: 14.2799 min\n",
            "----------\n",
            "Epoch 10/29, current lr= 0.01\n",
            "Copied best model weights!\n",
            "train loss: 0.857419, val loss: 0.853426, accuracy: 69.78, time: 15.7122 min\n",
            "----------\n",
            "Epoch 11/29, current lr= 0.01\n",
            "Copied best model weights!\n",
            "train loss: 0.716889, val loss: 0.826087, accuracy: 70.98, time: 17.1406 min\n",
            "----------\n",
            "Epoch 12/29, current lr= 0.01\n",
            "train loss: 0.663284, val loss: 0.901906, accuracy: 70.80, time: 18.5651 min\n",
            "----------\n",
            "Epoch 13/29, current lr= 0.01\n",
            "Copied best model weights!\n",
            "train loss: 0.553163, val loss: 0.804247, accuracy: 72.90, time: 19.9915 min\n",
            "----------\n",
            "Epoch 14/29, current lr= 0.01\n",
            "train loss: 0.608093, val loss: 0.969782, accuracy: 68.33, time: 21.4139 min\n",
            "----------\n",
            "Epoch 15/29, current lr= 0.01\n",
            "train loss: 0.514657, val loss: 1.305310, accuracy: 70.85, time: 22.8346 min\n",
            "----------\n",
            "Epoch 16/29, current lr= 0.01\n",
            "train loss: 0.423400, val loss: 0.927820, accuracy: 71.62, time: 24.2518 min\n",
            "----------\n",
            "Epoch 17/29, current lr= 0.01\n",
            "train loss: 0.405494, val loss: 0.888253, accuracy: 74.42, time: 25.6661 min\n",
            "----------\n",
            "Epoch 18/29, current lr= 0.01\n",
            "train loss: 0.323287, val loss: 0.905095, accuracy: 73.51, time: 27.0845 min\n",
            "----------\n",
            "Epoch 19/29, current lr= 0.01\n",
            "Loading best model weights!\n",
            "train loss: 0.270419, val loss: 1.114211, accuracy: 73.63, time: 28.5062 min\n",
            "----------\n",
            "Epoch 20/29, current lr= 0.001\n",
            "Copied best model weights!\n",
            "train loss: 0.340210, val loss: 0.752747, accuracy: 76.54, time: 29.9331 min\n",
            "----------\n",
            "Epoch 21/29, current lr= 0.001\n",
            "train loss: 0.237074, val loss: 0.807789, accuracy: 76.32, time: 31.3546 min\n",
            "----------\n",
            "Epoch 22/29, current lr= 0.001\n",
            "train loss: 0.171436, val loss: 0.888703, accuracy: 76.15, time: 32.7781 min\n",
            "----------\n",
            "Epoch 23/29, current lr= 0.001\n",
            "train loss: 0.117029, val loss: 1.038934, accuracy: 76.18, time: 34.1978 min\n",
            "----------\n",
            "Epoch 24/29, current lr= 0.001\n",
            "train loss: 0.082127, val loss: 1.168209, accuracy: 75.69, time: 35.6201 min\n",
            "----------\n",
            "Epoch 25/29, current lr= 0.001\n",
            "train loss: 0.058895, val loss: 1.281722, accuracy: 75.81, time: 37.0390 min\n",
            "----------\n",
            "Epoch 26/29, current lr= 0.001\n",
            "Loading best model weights!\n",
            "train loss: 0.042085, val loss: 1.369935, accuracy: 75.76, time: 38.4557 min\n",
            "----------\n",
            "Epoch 27/29, current lr= 0.0001\n",
            "train loss: 0.233044, val loss: 0.763331, accuracy: 76.71, time: 39.8746 min\n",
            "----------\n",
            "Epoch 28/29, current lr= 0.0001\n",
            "train loss: 0.219631, val loss: 0.783267, accuracy: 76.60, time: 41.2946 min\n",
            "----------\n",
            "Epoch 29/29, current lr= 0.0001\n",
            "train loss: 0.207010, val loss: 0.797916, accuracy: 76.70, time: 42.7141 min\n",
            "----------\n"
          ]
        }
      ]
    },
    {
      "cell_type": "markdown",
      "metadata": {
        "id": "XfO6GwUCAqkr"
      },
      "source": [
        "Teacher Model Chart"
      ]
    },
    {
      "cell_type": "code",
      "metadata": {
        "colab": {
          "base_uri": "https://localhost:8080/",
          "height": 572
        },
        "id": "LjvXNpzEAt1G",
        "outputId": "7ae699e5-ed89-4f07-f8c9-1bfde403fe0b"
      },
      "source": [
        "num_epochs = params_train['num_epochs']\n",
        "\n",
        "# Plot train-val loss\n",
        "plt.title('Train-Val Loss')\n",
        "plt.plot(range(1, num_epochs+1), loss_hist['train'], label='train')\n",
        "plt.plot(range(1, num_epochs+1), loss_hist['val'], label='val')\n",
        "plt.ylabel('Loss')\n",
        "plt.xlabel('Training Epochs')\n",
        "plt.legend()\n",
        "plt.show()\n",
        "\n",
        "# plot train-val accuracy\n",
        "plt.title('Train-Val Accuracy')\n",
        "plt.plot(range(1, num_epochs+1), metric_hist['train'], label='train')\n",
        "plt.plot(range(1, num_epochs+1), metric_hist['val'], label='val')\n",
        "plt.ylabel('Accuracy')\n",
        "plt.xlabel('Training Epochs')\n",
        "plt.legend()\n",
        "plt.show()"
      ],
      "execution_count": 30,
      "outputs": [
        {
          "output_type": "display_data",
          "data": {
            "image/png": "[encoded data removed]",
            "text/plain": [
              "<Figure size 432x288 with 1 Axes>"
            ]
          },
          "metadata": {
            "needs_background": "light"
          }
        },
        {
          "output_type": "display_data",
          "data": {
            "image/png": "[encoded data removed]",
            "text/plain": [
              "<Figure size 432x288 with 1 Axes>"
            ]
          },
          "metadata": {
            "needs_background": "light"
          }
        }
      ]
    },
    {
      "cell_type": "markdown",
      "metadata": {
        "id": "-fdnb77HAvlN"
      },
      "source": [
        "Student Model 학습"
      ]
    },
    {
      "cell_type": "markdown",
      "metadata": {
        "id": "0h3eRqkuBCod"
      },
      "source": [
        "1. 가중치 초기화_BaseLine check를 위해 사용했던 model_S(Student)의 weight 초기화"
      ]
    },
    {
      "cell_type": "code",
      "metadata": {
        "id": "bj93Fy0R-P2j"
      },
      "source": [
        "model_S.apply(initialize_weights);"
      ],
      "execution_count": 31,
      "outputs": []
    },
    {
      "cell_type": "markdown",
      "metadata": {
        "id": "J3yLTQt-BTmL"
      },
      "source": [
        "2. Teacher model학습을 통해 얻은 Weight값(Soft Label들을 Load)"
      ]
    },
    {
      "cell_type": "code",
      "metadata": {
        "id": "w4LXd8wCBbF-"
      },
      "source": [
        "# load weight\n",
        "model_T.load_state_dict(torch.load('/content/models/teacher_weights.pt'))\n",
        "\n",
        "# optimizer\n",
        "opt = optim.Adam(model_S.parameters())"
      ],
      "execution_count": 32,
      "outputs": []
    },
    {
      "cell_type": "markdown",
      "metadata": {
        "id": "9xH6DZPTBoNU"
      },
      "source": [
        "3. KD 함수 선언 및 적용"
      ]
    },
    {
      "cell_type": "code",
      "metadata": {
        "id": "bQks09bEBstX"
      },
      "source": [
        "# knowledge distillation loss\n",
        "def distillation(y, labels, teacher_scores, T, alpha):\n",
        "    # distillation loss + classification loss\n",
        "    # y: student\n",
        "    # labels: hard label\n",
        "    # teacher_scores: soft label\n",
        "    return nn.KLDivLoss()(F.log_softmax(y/T), F.softmax(teacher_scores/T)) * (T*T * 2.0 + alpha) + F.cross_entropy(y,labels) * (1.-alpha)\n",
        "\n",
        "# val loss\n",
        "loss_func = nn.CrossEntropyLoss()"
      ],
      "execution_count": 33,
      "outputs": []
    },
    {
      "cell_type": "code",
      "metadata": {
        "id": "-z6bqoKKB31k"
      },
      "source": [
        "def distill_loss_batch(output, target, teacher_output, loss_fn=distillation, opt=opt):\n",
        "    loss_b = loss_fn(output, target, teacher_output, T=20.0, alpha=0.7)\n",
        "    metric_b = metric_batch(output, target)\n",
        "\n",
        "    if opt is not None:\n",
        "        opt.zero_grad()\n",
        "        loss_b.backward()\n",
        "        opt.step()\n",
        "\n",
        "    return loss_b.item(), metric_b"
      ],
      "execution_count": 34,
      "outputs": []
    },
    {
      "cell_type": "markdown",
      "metadata": {
        "id": "WpjJ6rlpB6jP"
      },
      "source": [
        "4. 30 epoch로 학습시도"
      ]
    },
    {
      "cell_type": "code",
      "metadata": {
        "colab": {
          "base_uri": "https://localhost:8080/"
        },
        "id": "fSNbL344B90W",
        "outputId": "6a137db9-3e56-436f-9cdb-c913ce1d345b"
      },
      "source": [
        "num_epochs= 30\n",
        "\n",
        "loss_history = {'train': [], 'val': []}\n",
        "metric_history = {'train': [], 'val': []}\n",
        "\n",
        "best_loss = float('inf')\n",
        "start_time = time.time()\n",
        "\n",
        "for epoch in range(num_epochs):\n",
        "    current_lr = get_lr(opt)\n",
        "    print('Epoch {}/{}, current lr= {}'.format(epoch, num_epochs-1, current_lr))\n",
        "\n",
        "    # train\n",
        "    model_S.train()\n",
        "\n",
        "    running_loss = 0.0\n",
        "    running_metric = 0.0\n",
        "    len_data = len(trainloader.dataset)\n",
        "\n",
        "    for xb, yb in trainloader:\n",
        "        xb = xb.to(device)\n",
        "        yb = yb.to(device)\n",
        "\n",
        "        output = model_S(xb)\n",
        "        teacher_output = model_T(xb).detach()\n",
        "        loss_b, metric_b = distill_loss_batch(output, yb, teacher_output, loss_fn=distillation, opt=opt)\n",
        "        running_loss += loss_b\n",
        "        running_metric_b = metric_b\n",
        "    train_loss = running_loss / len_data\n",
        "    train_metric = running_metric / len_data\n",
        "\n",
        "    loss_history['train'].append(train_loss)\n",
        "    metric_history['train'].append(train_metric)\n",
        "\n",
        "    # validation\n",
        "    model_S.eval()\n",
        "    with torch.no_grad():\n",
        "        val_loss, val_metric = loss_epoch(model_S, loss_func, testloader)\n",
        "    loss_history['val'].append(val_loss)\n",
        "    metric_history['val'].append(val_metric)\n",
        "\n",
        "\n",
        "    lr_scheduler.step(val_loss)\n",
        "\n",
        "    print('train loss: %.6f, val loss: %.6f, accuracy: %.2f, time: %.4f min' %(train_loss, val_loss, 100*val_metric, (time.time()-start_time)/60))\n",
        "    print('-'*10)"
      ],
      "execution_count": 35,
      "outputs": [
        {
          "output_type": "stream",
          "name": "stdout",
          "text": [
            "Epoch 0/29, current lr= 0.001\n"
          ]
        },
        {
          "output_type": "stream",
          "name": "stderr",
          "text": [
            "/usr/local/lib/python3.7/dist-packages/ipykernel_launcher.py:7: UserWarning: Implicit dimension choice for log_softmax has been deprecated. Change the call to include dim=X as an argument.\n",
            "  import sys\n",
            "/usr/local/lib/python3.7/dist-packages/ipykernel_launcher.py:7: UserWarning: Implicit dimension choice for softmax has been deprecated. Change the call to include dim=X as an argument.\n",
            "  import sys\n",
            "/usr/local/lib/python3.7/dist-packages/torch/nn/functional.py:2748: UserWarning: reduction: 'mean' divides the total loss by both the batch size and the support size.'batchmean' divides only by the batch size, and aligns with the KL div math definition.'mean' will be changed to behave the same as 'batchmean' in the next major release.\n",
            "  \"reduction: 'mean' divides the total loss by both the batch size and the support size.\"\n"
          ]
        },
        {
          "output_type": "stream",
          "name": "stdout",
          "text": [
            "train loss: 0.003996, val loss: 0.005729, accuracy: 77.50, time: 1.0507 min\n",
            "----------\n",
            "Epoch 1/29, current lr= 0.001\n",
            "train loss: 0.002480, val loss: 0.005637, accuracy: 77.94, time: 2.1020 min\n",
            "----------\n",
            "Epoch 2/29, current lr= 0.001\n",
            "train loss: 0.002076, val loss: 0.005759, accuracy: 77.93, time: 3.1598 min\n",
            "----------\n",
            "Epoch 3/29, current lr= 0.001\n",
            "train loss: 0.001813, val loss: 0.005727, accuracy: 77.78, time: 4.2156 min\n",
            "----------\n",
            "Epoch 4/29, current lr= 0.001\n",
            "train loss: 0.001680, val loss: 0.005603, accuracy: 78.65, time: 5.2733 min\n",
            "----------\n",
            "Epoch 5/29, current lr= 0.001\n",
            "train loss: 0.001500, val loss: 0.005672, accuracy: 78.58, time: 6.3244 min\n",
            "----------\n",
            "Epoch 6/29, current lr= 0.001\n",
            "train loss: 0.001380, val loss: 0.005768, accuracy: 78.22, time: 7.3759 min\n",
            "----------\n",
            "Epoch 7/29, current lr= 0.001\n",
            "train loss: 0.001308, val loss: 0.005876, accuracy: 78.54, time: 8.4267 min\n",
            "----------\n",
            "Epoch 8/29, current lr= 0.001\n",
            "train loss: 0.001244, val loss: 0.005847, accuracy: 78.43, time: 9.4789 min\n",
            "----------\n",
            "Epoch 9/29, current lr= 0.001\n",
            "train loss: 0.001154, val loss: 0.005864, accuracy: 78.13, time: 10.5296 min\n",
            "----------\n",
            "Epoch 10/29, current lr= 0.001\n",
            "train loss: 0.001087, val loss: 0.005921, accuracy: 78.04, time: 11.5848 min\n",
            "----------\n",
            "Epoch 11/29, current lr= 0.001\n",
            "train loss: 0.001004, val loss: 0.005883, accuracy: 78.61, time: 12.6344 min\n",
            "----------\n",
            "Epoch 12/29, current lr= 0.001\n",
            "train loss: 0.000970, val loss: 0.005955, accuracy: 78.40, time: 13.6883 min\n",
            "----------\n",
            "Epoch 13/29, current lr= 0.001\n",
            "train loss: 0.000948, val loss: 0.005844, accuracy: 78.37, time: 14.7385 min\n",
            "----------\n",
            "Epoch 14/29, current lr= 0.001\n",
            "train loss: 0.000898, val loss: 0.005853, accuracy: 78.72, time: 15.7848 min\n",
            "----------\n",
            "Epoch 15/29, current lr= 0.001\n",
            "train loss: 0.000850, val loss: 0.005780, accuracy: 78.71, time: 16.8274 min\n",
            "----------\n",
            "Epoch 16/29, current lr= 0.001\n",
            "train loss: 0.000820, val loss: 0.005838, accuracy: 78.46, time: 17.8765 min\n",
            "----------\n",
            "Epoch 17/29, current lr= 0.001\n",
            "train loss: 0.000792, val loss: 0.005834, accuracy: 78.41, time: 18.9275 min\n",
            "----------\n",
            "Epoch 18/29, current lr= 0.001\n",
            "train loss: 0.000761, val loss: 0.005906, accuracy: 78.50, time: 19.9838 min\n",
            "----------\n",
            "Epoch 19/29, current lr= 0.001\n",
            "train loss: 0.000733, val loss: 0.005948, accuracy: 77.92, time: 21.0335 min\n",
            "----------\n",
            "Epoch 20/29, current lr= 0.001\n",
            "train loss: 0.000716, val loss: 0.005913, accuracy: 78.50, time: 22.0883 min\n",
            "----------\n",
            "Epoch 21/29, current lr= 0.001\n",
            "train loss: 0.000698, val loss: 0.005965, accuracy: 78.02, time: 23.1403 min\n",
            "----------\n",
            "Epoch 22/29, current lr= 0.001\n",
            "train loss: 0.000675, val loss: 0.005861, accuracy: 78.63, time: 24.1991 min\n",
            "----------\n",
            "Epoch 23/29, current lr= 0.001\n",
            "train loss: 0.000655, val loss: 0.005839, accuracy: 78.28, time: 25.2532 min\n",
            "----------\n",
            "Epoch 24/29, current lr= 0.001\n",
            "train loss: 0.000631, val loss: 0.005872, accuracy: 78.48, time: 26.3064 min\n",
            "----------\n",
            "Epoch 25/29, current lr= 0.001\n",
            "train loss: 0.000608, val loss: 0.005896, accuracy: 78.51, time: 27.3579 min\n",
            "----------\n",
            "Epoch 26/29, current lr= 0.001\n",
            "train loss: 0.000587, val loss: 0.005833, accuracy: 78.45, time: 28.4117 min\n",
            "----------\n",
            "Epoch 27/29, current lr= 0.001\n",
            "train loss: 0.000578, val loss: 0.005802, accuracy: 78.49, time: 29.4601 min\n",
            "----------\n",
            "Epoch 28/29, current lr= 0.001\n",
            "train loss: 0.000549, val loss: 0.005852, accuracy: 78.56, time: 30.5124 min\n",
            "----------\n",
            "Epoch 29/29, current lr= 0.001\n",
            "train loss: 0.000544, val loss: 0.005838, accuracy: 78.43, time: 31.5637 min\n",
            "----------\n"
          ]
        }
      ]
    },
    {
      "cell_type": "markdown",
      "metadata": {
        "id": "GfXrHLVnNafJ"
      },
      "source": [
        "KD Result Check"
      ]
    },
    {
      "cell_type": "code",
      "metadata": {
        "colab": {
          "base_uri": "https://localhost:8080/",
          "height": 572
        },
        "id": "PKClgwmmNdwX",
        "outputId": "e2354603-382c-4db3-ede3-5a2a1cf90379"
      },
      "source": [
        "num_epochs = params_train['num_epochs']\n",
        "\n",
        "# Plot train-val loss\n",
        "plt.title('Train-Val Loss')\n",
        "plt.plot(range(1, num_epochs+1), loss_hist['train'], label='train')\n",
        "plt.plot(range(1, num_epochs+1), loss_hist['val'], label='val')\n",
        "plt.ylabel('Loss')\n",
        "plt.xlabel('Training Epochs')\n",
        "plt.legend()\n",
        "plt.show()\n",
        "\n",
        "# plot train-val accuracy\n",
        "plt.title('Train-Val Accuracy')\n",
        "plt.plot(range(1, num_epochs+1), metric_hist['train'], label='train')\n",
        "plt.plot(range(1, num_epochs+1), metric_hist['val'], label='val')\n",
        "plt.ylabel('Accuracy')\n",
        "plt.xlabel('Training Epochs')\n",
        "plt.legend()\n",
        "plt.show()"
      ],
      "execution_count": 36,
      "outputs": [
        {
          "output_type": "display_data",
          "data": {
            "image/png": "[encoded data removed]",
            "text/plain": [
              "<Figure size 432x288 with 1 Axes>"
            ]
          },
          "metadata": {
            "needs_background": "light"
          }
        },
        {
          "output_type": "display_data",
          "data": {
            "image/png": "[encoded data removed]",
            "text/plain": [
              "<Figure size 432x288 with 1 Axes>"
            ]
          },
          "metadata": {
            "needs_background": "light"
          }
        }
      ]
    },
    {
      "cell_type": "markdown",
      "metadata": {
        "id": "CVIjdRvh67BF"
      },
      "source": [
        "Reference\n",
        "1. https://sanghyu.tistory.com/113"
      ]
    }
  ]
}